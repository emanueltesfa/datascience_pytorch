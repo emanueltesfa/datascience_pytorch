{
 "cells": [
  {
   "cell_type": "code",
   "execution_count": 4,
   "id": "a266b76e-81b0-4aca-9128-0f71aea0b340",
   "metadata": {},
   "outputs": [
    {
     "name": "stdout",
     "output_type": "stream",
     "text": [
      "tensor([ 0.2077, -0.3041,  0.7571], requires_grad=True)\n",
      "tensor([2.2077, 1.6959, 2.7571], grad_fn=<AddBackward0>)\n",
      "tensor([0.8831, 6.7837, 0.0110])\n"
     ]
    }
   ],
   "source": [
    "import torch as t \n",
    "x = t.randn(3, requires_grad = True)\n",
    "print(x)\n",
    "y= x + 2\n",
    "print(y)\n",
    "\n",
    "z = y * y * 2\n",
    "#z = z.mean()\n",
    "v = t.tensor([0.1, 1.0, 0.001], dtype=t.float32)\n",
    "z.backward(v)\n",
    "\n",
    "print(x.grad)"
   ]
  },
  {
   "cell_type": "code",
   "execution_count": 5,
   "id": "2cfd6382-12ba-4822-aa2d-3a74fce0f446",
   "metadata": {},
   "outputs": [
    {
     "name": "stdout",
     "output_type": "stream",
     "text": [
      "tensor([0.0117, 0.5646, 1.4845], requires_grad=True)\n",
      "tensor([0.0117, 0.5646, 1.4845])\n"
     ]
    }
   ],
   "source": [
    "import torch as t \n",
    "x = t.randn(3, requires_grad = True)\n",
    "print(x)\n",
    "# x.required_grad_(False)\n",
    "# x.detach()\n",
    "with t.no_grad():\n",
    "# create new tensor without gradient \n",
    "    y = x.detach()\n",
    "    print(y)\n",
    "    y = x + 2"
   ]
  },
  {
   "cell_type": "code",
   "execution_count": 9,
   "id": "5f7e7630-a5af-41d7-b467-b46847d8e6d4",
   "metadata": {},
   "outputs": [
    {
     "name": "stdout",
     "output_type": "stream",
     "text": [
      "tensor(12., grad_fn=<SumBackward0>)\n",
      "tensor([3., 3., 3., 3.])\n",
      "tensor(12., grad_fn=<SumBackward0>)\n",
      "tensor([6., 6., 6., 6.])\n",
      "tensor(12., grad_fn=<SumBackward0>)\n",
      "tensor([9., 9., 9., 9.])\n",
      "tensor(12., grad_fn=<SumBackward0>)\n",
      "tensor([12., 12., 12., 12.])\n"
     ]
    }
   ],
   "source": [
    "weights = t.ones(4, requires_grad=True)\n",
    "\n",
    "for epoc in range(4):\n",
    "    model_output = (weights * 3).sum()\n",
    "    print(model_output) \n",
    "    model_output.backward()\n",
    "    print(weights.grad)\n",
    "    weights.grad.zero_()"
   ]
  },
  {
   "cell_type": "code",
   "execution_count": null,
   "id": "6116f38b-c061-4a9d-8345-abc3cec6785a",
   "metadata": {},
   "outputs": [],
   "source": []
  }
 ],
 "metadata": {
  "kernelspec": {
   "display_name": "Python 3 (ipykernel)",
   "language": "python",
   "name": "python3"
  },
  "language_info": {
   "codemirror_mode": {
    "name": "ipython",
    "version": 3
   },
   "file_extension": ".py",
   "mimetype": "text/x-python",
   "name": "python",
   "nbconvert_exporter": "python",
   "pygments_lexer": "ipython3",
   "version": "3.9.7"
  }
 },
 "nbformat": 4,
 "nbformat_minor": 5
}
