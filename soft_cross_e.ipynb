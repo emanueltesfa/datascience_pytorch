{
 "cells": [
  {
   "cell_type": "code",
   "execution_count": 1,
   "metadata": {},
   "outputs": [
    {
     "name": "stdout",
     "output_type": "stream",
     "text": [
      "softmax numpy:  [0.65900114 0.24243297 0.09856589]\n"
     ]
    }
   ],
   "source": [
    "import torch \n",
    "import torch.nn as nn\n",
    "import numpy as np \n",
    "\n",
    "def softmax(x): \n",
    "    return np.exp(x) / np.sum(np.exp(x), axis=0)\n",
    "\n",
    "x = np.array([2.0, 1.0, 0.1])\n",
    "outputs = softmax(x)\n",
    "print(\"softmax numpy: \", outputs)\n",
    "\n",
    "x  = torch.tensor([2.0, 1.0, 0.1])\n",
    "outputs = torch.softmax(x, dim=0) # dim is same a xis"
   ]
  },
  {
   "cell_type": "code",
   "execution_count": 20,
   "metadata": {},
   "outputs": [
    {
     "name": "stdout",
     "output_type": "stream",
     "text": [
      "tensor(0.3516)\n",
      "tensor(1.3557)\n",
      "tensor([2, 0, 1])\n",
      "tensor([0, 0, 0])\n"
     ]
    }
   ],
   "source": [
    "loss = nn.CrossEntropyLoss()\n",
    "\n",
    "y = torch.tensor([2, 0 ,1]) # 3 classes outputs , these are correct outputs \n",
    "\n",
    "# numsamples # numclass 3x3\n",
    "y_pred_good = torch.tensor([ [0.0,1.0 ,2.0],[2.0, 0.0 ,0.0],[1.0, 2.0 ,0.0] ]) #why????\n",
    "y_pred_bad = torch.tensor([[0.5, 0.0, 0.3], [2.0 , 1.1, 1.0] ,[2.0, 0.0, 1.0] ])\n",
    "\n",
    "l1 = loss(y_pred_good, y)\n",
    "l2 = loss(y_pred_bad, y)\n",
    "print(l1)\n",
    "\n",
    "print(l2)\n",
    "_, predictions = torch.max(y_pred_good, dim =1)\n",
    "_, predictions2 = torch.max(y_pred_bad, dim =1)\n",
    "print(predictions)\n",
    "print(predictions2)"
   ]
  }
 ],
 "metadata": {
  "kernelspec": {
   "display_name": "DL",
   "language": "python",
   "name": "python3"
  },
  "language_info": {
   "codemirror_mode": {
    "name": "ipython",
    "version": 3
   },
   "file_extension": ".py",
   "mimetype": "text/x-python",
   "name": "python",
   "nbconvert_exporter": "python",
   "pygments_lexer": "ipython3",
   "version": "3.9.16"
  },
  "orig_nbformat": 4
 },
 "nbformat": 4,
 "nbformat_minor": 2
}
