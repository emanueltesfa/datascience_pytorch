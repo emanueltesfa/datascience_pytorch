{
 "cells": [
  {
   "cell_type": "code",
   "execution_count": 20,
   "id": "e81e80c6-9282-4998-99de-56965cb6ed8f",
   "metadata": {},
   "outputs": [
    {
     "name": "stdout",
     "output_type": "stream",
     "text": [
      "tensor([[1.2401, 0.8400],\n",
      "        [1.8346, 0.8300]])\n",
      "0.8300026655197144\n"
     ]
    }
   ],
   "source": [
    "import torch as t\n",
    "import numpy as np \n",
    "\n",
    "x = t.empty(2,2,2,3)\n",
    "x = t.zeros(2,2)\n",
    "x = t.ones(2,2, dtype=t.float16)\n",
    "x = t.tensor([2.5, 1])\n",
    "x = t.rand(2,2)\n",
    "y = t.rand(2,2)\n",
    "y = y.add_(x) # sub/mul/div\n",
    "#y = y[1:]\n",
    "\n",
    "print(y)\n",
    "print(y[1,1].item())"
   ]
  },
  {
   "cell_type": "code",
   "execution_count": 23,
   "id": "933566fb-0e72-4d28-a211-2e0a9516701b",
   "metadata": {},
   "outputs": [
    {
     "name": "stdout",
     "output_type": "stream",
     "text": [
      "torch.Size([2, 8])\n"
     ]
    }
   ],
   "source": [
    "x = t.rand(4,4)\n",
    "y = x.view(16) # to resize   \n",
    "y = x.view(2,8) # to resize   \n",
    "\n",
    "print(y.size())"
   ]
  },
  {
   "cell_type": "code",
   "execution_count": 28,
   "id": "16368f65-141c-4e30-be55-4708890bfc46",
   "metadata": {},
   "outputs": [
    {
     "name": "stdout",
     "output_type": "stream",
     "text": [
      "<class 'numpy.ndarray'>\n",
      "<class 'torch.Tensor'>\n"
     ]
    }
   ],
   "source": [
    "#convert numpy to tensor\n",
    "# point to same memory loc\n",
    "# a = torch.ones(5)\n",
    "#b = a.numpy() \n",
    "#instead do \n",
    "a = np.zeros(5)\n",
    "print(type(a))\n",
    "\n",
    "b = torch.from_numpy(a)\n",
    "print(type(b))\n",
    "  "
   ]
  },
  {
   "cell_type": "code",
   "execution_count": 33,
   "id": "1b7f8997-a855-4549-8bb5-ed459e024fb6",
   "metadata": {},
   "outputs": [
    {
     "name": "stdout",
     "output_type": "stream",
     "text": [
      "True\n"
     ]
    }
   ],
   "source": [
    "print(torch.cuda.is_available())\n",
    "if torch.cuda.is_available(): # to torch on gpu\n",
    "    device = torch.device(\"cuda\")\n",
    "    x = torch.ones(5, device = device)\n",
    "    # or \n",
    "    y  = y.to(device) # gpu\n",
    "    z = y.to(\"cpu\")\n",
    "    # requires gradient \n",
    "    "
   ]
  },
  {
   "cell_type": "code",
   "execution_count": null,
   "id": "60eb41c2-775a-468f-9a3d-e4c7276e9a96",
   "metadata": {},
   "outputs": [],
   "source": []
  }
 ],
 "metadata": {
  "kernelspec": {
   "display_name": "Python 3 (ipykernel)",
   "language": "python",
   "name": "python3"
  },
  "language_info": {
   "codemirror_mode": {
    "name": "ipython",
    "version": 3
   },
   "file_extension": ".py",
   "mimetype": "text/x-python",
   "name": "python",
   "nbconvert_exporter": "python",
   "pygments_lexer": "ipython3",
   "version": "3.9.7"
  },
  "vscode": {
   "interpreter": {
    "hash": "f1f1a5d57fec908686329aeae3f6ec1befa3a872a55f821d5c379d2c3cf1c6db"
   }
  }
 },
 "nbformat": 4,
 "nbformat_minor": 5
}
