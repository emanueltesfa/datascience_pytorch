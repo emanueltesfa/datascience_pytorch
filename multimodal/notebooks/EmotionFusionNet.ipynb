{
 "cells": [
  {
   "cell_type": "code",
   "execution_count": 1,
   "metadata": {},
   "outputs": [],
   "source": [
    "import pandas as pd \n",
    "import numpy as np\n",
    "import torch \n",
    "import torch.nn as nn\n",
    "from torch.utils.data import Dataset, DataLoader\n",
    "from torch.nn.utils.rnn import pad_sequence\n",
    "from tqdm import tqdm"
   ]
  },
  {
   "cell_type": "code",
   "execution_count": 12,
   "metadata": {},
   "outputs": [
    {
     "name": "stdout",
     "output_type": "stream",
     "text": [
      "1336\n"
     ]
    },
    {
     "data": {
      "text/plain": [
       "Index(['file_name_list', 'speakers', 'visual_features', 'acoustic_features',\n",
       "       'lexical_features', 'emotion_labels'],\n",
       "      dtype='object')"
      ]
     },
     "execution_count": 12,
     "metadata": {},
     "output_type": "execute_result"
    }
   ],
   "source": [
    "df = pd.read_csv('../data/csv/dataset.csv')\n",
    "print(len(df))\n",
    "df.columns"
   ]
  },
  {
   "cell_type": "code",
   "execution_count": 3,
   "metadata": {},
   "outputs": [
    {
     "name": "stdout",
     "output_type": "stream",
     "text": [
      "(41, 2048)\n",
      "(1, 128)\n",
      "(768,)\n",
      "(218, 2048)\n",
      "(7, 128)\n",
      "(768,)\n"
     ]
    }
   ],
   "source": [
    "for i in range(2):\n",
    "    print(np.load(f\"../data/{df['visual_features'].loc[i]}\").shape)\n",
    "    print(np.load(f\"../data/{df['acoustic_features'].loc[i]}\").shape)\n",
    "    print(np.load(f\"../data/{df['lexical_features'].loc[i]}\").shape)\n"
   ]
  },
  {
   "cell_type": "code",
   "execution_count": 4,
   "metadata": {},
   "outputs": [],
   "source": [
    "def collate_fn(batch):\n",
    "    #  (seq_len, features)\n",
    "    batch_features = [item for item in batch]\n",
    "    batch_features_padded = pad_sequence(batch_features, batch_first=True)\n",
    "    return batch_features_padded"
   ]
  },
  {
   "cell_type": "code",
   "execution_count": 5,
   "metadata": {},
   "outputs": [],
   "source": [
    "class VisualFeatureDataset(Dataset):\n",
    "    def __init__(self, dataframe, base_path=\"../data/\"):\n",
    "        self.dataframe = dataframe\n",
    "        self.base_path = base_path\n",
    "\n",
    "    def __len__(self):\n",
    "        return len(self.dataframe)\n",
    "\n",
    "    def __getitem__(self, idx):\n",
    "        file_path = self.dataframe.iloc[idx]['visual_features']\n",
    "        visual_features = np.load(self.base_path + file_path)\n",
    "        return torch.tensor(visual_features, dtype=torch.float)\n"
   ]
  },
  {
   "cell_type": "code",
   "execution_count": 6,
   "metadata": {},
   "outputs": [],
   "source": [
    "class LSTMFeatureExtractor(nn.Module):\n",
    "    def __init__(self, input_dim, hidden_dim, num_layers):\n",
    "        super(LSTMFeatureExtractor, self).__init__()\n",
    "        self.hidden_dim = hidden_dim\n",
    "        self.lstm = nn.LSTM(input_dim, hidden_dim, num_layers, batch_first=True)\n",
    "\n",
    "    def forward(self, x):\n",
    "        # x shape: (batch, seq_len, features)\n",
    "        lstm_out, (hn, cn) = self.lstm(x)  # lstm_out shape: (batch, seq_len, hidden_dim)\n",
    "        return lstm_out \n"
   ]
  },
  {
   "cell_type": "code",
   "execution_count": 7,
   "metadata": {},
   "outputs": [],
   "source": [
    "input_dim_vis = 2048  \n",
    "input_dim_aud = 2048  \n",
    "hidden_dim = 128  \n",
    "num_layers = 1    \n",
    "\n",
    "feature_extractor_vis = LSTMFeatureExtractor(input_dim_vis, hidden_dim, num_layers)"
   ]
  },
  {
   "cell_type": "markdown",
   "metadata": {},
   "source": [
    "### Retrieve feature vector per data point "
   ]
  },
  {
   "cell_type": "code",
   "execution_count": 16,
   "metadata": {},
   "outputs": [
    {
     "name": "stderr",
     "output_type": "stream",
     "text": [
      "100%|██████████| 1336/1336 [00:08<00:00, 158.78it/s]\n"
     ]
    }
   ],
   "source": [
    "dataset = VisualFeatureDataset(df)\n",
    "dataloader = DataLoader(dataset, batch_size = 1, shuffle=True, collate_fn=collate_fn)\n",
    "features = []\n",
    "\n",
    "for batch_features in tqdm(dataloader):\n",
    "    # print(batch_features.shape)\n",
    "    #  batch_features = (batch_size, seq_len, input_dim)\n",
    "    features.append( feature_extractor_vis(batch_features).cpu().detach().numpy() ) # features.shape = (batch_size, seq_len, input_dim) \n",
    "    # print(features.shape)\n",
    "\n",
    "    \n",
    "    \n"
   ]
  },
  {
   "cell_type": "code",
   "execution_count": 17,
   "metadata": {},
   "outputs": [],
   "source": [
    "df['extracted_visual_labels'] = features"
   ]
  },
  {
   "cell_type": "code",
   "execution_count": null,
   "metadata": {},
   "outputs": [],
   "source": []
  }
 ],
 "metadata": {
  "kernelspec": {
   "display_name": "pytorch_dl",
   "language": "python",
   "name": "python3"
  },
  "language_info": {
   "codemirror_mode": {
    "name": "ipython",
    "version": 3
   },
   "file_extension": ".py",
   "mimetype": "text/x-python",
   "name": "python",
   "nbconvert_exporter": "python",
   "pygments_lexer": "ipython3",
   "version": "3.12.1"
  }
 },
 "nbformat": 4,
 "nbformat_minor": 2
}
