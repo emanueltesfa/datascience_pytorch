{
  "cells": [
    {
      "cell_type": "markdown",
      "metadata": {
        "id": "view-in-github"
      },
      "source": [
        "<a href=\"https://colab.research.google.com/github/msoley/CSCI-535/blob/main/multimodal_emotion_recognition.ipynb\" target=\"_parent\"><img src=\"https://colab.research.google.com/assets/colab-badge.svg\" alt=\"Open In Colab\"/></a>"
      ]
    },
    {
      "cell_type": "markdown",
      "source": [
        "# Audiovisual Emotion Recognition\n",
        "In this practicum, we play with features extracted from a subset of [CREMA-D](https://github.com/CheyneyComputerScience/CREMA-D) a dataset for emotion recognition. It features actors portraying expressions of emotions, namely, happiness, sadness, anger, fear, disgust, and neutral, with both their facial expressions and voices recorded.   This database is useful for performing audiovisual emotion recognition and the prototypical expressions are portrayed. The dataset comes with pre-defined train, test and validation sets. We have extracted two feature sets from a randomely selected subset of the dataset and prepared them for you. From the visual modality, we extracted the displayed facial action unit intensity estimates and head pose angles using [OpenFace](https://github.com/TadasBaltrusaitis/OpenFace). For audio, we extracted [TRILL](https://blog.research.google/2020/06/improving-speech-representations-and.html) features that come from a pretrained model.\n"
      ],
      "metadata": {
        "id": "NbvFbal_lcHK"
      }
    },
    {
      "cell_type": "code",
      "source": [
        "#download and extract the bundled features\n",
        "!wget https://ict.usc.edu/~soleymani/subsampled.zip\n",
        "import zipfile\n",
        "import os\n",
        "for file in os.listdir():\n",
        "    if file.endswith(\".zip\"):\n",
        "        with zipfile.ZipFile(file, \"r\") as zip_file:\n",
        "            zip_file.extractall()\n",
        "        os.remove(file)\n",
        "features_path = './subsampled/'\n",
        "!ls ./subsampled/"
      ],
      "metadata": {
        "id": "S8ypeb1sgvfl",
        "colab": {
          "base_uri": "https://localhost:8080/"
        },
        "outputId": "d81ed941-f35f-4158-9af5-e521de273a9a"
      },
      "execution_count": null,
      "outputs": [
        {
          "output_type": "stream",
          "name": "stdout",
          "text": [
            "--2024-03-21 01:36:38--  https://ict.usc.edu/~soleymani/subsampled.zip\n",
            "Resolving ict.usc.edu (ict.usc.edu)... 68.181.7.11\n",
            "Connecting to ict.usc.edu (ict.usc.edu)|68.181.7.11|:443... connected.\n",
            "HTTP request sent, awaiting response... 302 Found\n",
            "Location: https://people.ict.usc.edu/~soleymani/subsampled.zip [following]\n",
            "--2024-03-21 01:36:38--  https://people.ict.usc.edu/~soleymani/subsampled.zip\n",
            "Resolving people.ict.usc.edu (people.ict.usc.edu)... 68.181.7.13\n",
            "Connecting to people.ict.usc.edu (people.ict.usc.edu)|68.181.7.13|:443... connected.\n",
            "HTTP request sent, awaiting response... 200 OK\n",
            "Length: 134264817 (128M) [application/zip]\n",
            "Saving to: ‘subsampled.zip’\n",
            "\n",
            "subsampled.zip      100%[===================>] 128.04M  18.2MB/s    in 7.9s    \n",
            "\n",
            "2024-03-21 01:36:47 (16.1 MB/s) - ‘subsampled.zip’ saved [134264817/134264817]\n",
            "\n",
            "merged\topenface  trill\n"
          ]
        }
      ]
    },
    {
      "cell_type": "markdown",
      "source": [
        "You can see that there are three feature sets: openface, trill and merged. The merged feature set contains both openface and trill concatenated, which we can use for early fusion.\n",
        "\n",
        "Let's import the necessary packages and define some constants"
      ],
      "metadata": {
        "id": "jpL1ktfamoOW"
      }
    },
    {
      "cell_type": "code",
      "source": [
        "import numpy as np\n",
        "import tensorflow as tf\n",
        "import os\n",
        "import matplotlib.pyplot as plt\n",
        "import seaborn as sns\n",
        "from tqdm import tqdm\n",
        "import tensorflow.keras as keras\n",
        "from tensorflow.keras.utils import Sequence\n",
        "from tensorflow.keras.utils import pad_sequences\n",
        "import random\n",
        "from sklearn.metrics import accuracy_score\n",
        "from tensorflow.keras.callbacks import EarlyStopping\n",
        "\n",
        "FEATURE_SIZE_OPENFACE = 20\n",
        "FEATURE_SIZE_TRILL = 512\n",
        "MAX_LEN = 12\n",
        "#define emotion labels and feature sets\n",
        "labels_dict = {'ANG':0, 'DIS':1, 'FEA':2, 'HAP':3, 'NEU':4, 'SAD':5}\n",
        "feature_sets = ['openface','trill', 'merged']"
      ],
      "metadata": {
        "id": "eOJV9WuZxIeJ"
      },
      "execution_count": null,
      "outputs": []
    },
    {
      "cell_type": "markdown",
      "source": [
        "# Feature visualization\n",
        "Let's look at some of the openface features to see whether they are useful and how discrimative they are. The features in the openface files are as follows:\n",
        "['AU01_r', 'AU02_r', 'AU04_r', 'AU05_r', 'AU06_r','AU07_r',                     'AU09_r', 'AU10_r', 'AU12_r', 'AU14_r', 'AU15_r', 'AU17_r',                     'AU20_r', 'AU23_r', 'AU25_r', 'AU26_r' ,'AU45_r',                      'pose_Rx', 'pose_Ry', 'pose_Rz']\n",
        "\n",
        "Look at the definition of facial action units [here](https://www.cs.cmu.edu/~face/facs.htm). Which ones are going to be useful? Try visualizing them by modifying the following code, or writing your own.\n",
        "\n"
      ],
      "metadata": {
        "id": "S628P1ghnLva"
      }
    },
    {
      "cell_type": "code",
      "source": [
        "\n",
        "#load the npy files and extract the labels from the file name\n",
        "def extract_label(file_name):\n",
        "    return file_name.split('_')[2]\n",
        "#let's do this only for train\n",
        "all_files= os.listdir(os.path.join(features_path, feature_sets[0], 'train'))\n",
        "pooled_data = []\n",
        "labels = []\n",
        "for npy_file in tqdm(all_files):\n",
        "    data = np.load(os.path.join(features_path, feature_sets[0], 'train', npy_file))\n",
        "    label = extract_label(npy_file)\n",
        "    if label in ['ANG', 'SAD', 'HAP']:\n",
        "        labels.append(label)\n",
        "        pooled_data.append(data[:,[2,4]].mean(axis=0))\n",
        "pooled_data = np.array(pooled_data)\n",
        "pooled_data[pooled_data<0]=0 # reject outliers\n",
        "#let's visualize the data\n",
        "sns.scatterplot(x=pooled_data[:,0], y=pooled_data[:,1], hue=labels)\n",
        "plt.xlabel(\"AU 4\")\n",
        "plt.ylabel(\"AU 6\")\n",
        "plt.show()\n"
      ],
      "metadata": {
        "colab": {
          "base_uri": "https://localhost:8080/",
          "height": 467
        },
        "id": "9BX_pNfdRJp_",
        "outputId": "bc9da7a2-dae7-41b8-cd3c-f656375452e1"
      },
      "execution_count": null,
      "outputs": [
        {
          "output_type": "stream",
          "name": "stderr",
          "text": [
            "100%|██████████| 1106/1106 [00:00<00:00, 3590.86it/s]\n"
          ]
        },
        {
          "output_type": "display_data",
          "data": {
            "text/plain": [
              "<Figure size 640x480 with 1 Axes>"
            ],
            "image/png": "[encoded data removed]"
          },
          "metadata": {}
        }
      ]
    },
    {
      "cell_type": "markdown",
      "source": [
        "First, we need a data loader. Here is a data loader (generator) for a unimodal model, defined for tensorflow Keras."
      ],
      "metadata": {
        "id": "6QcNXTXWo0MW"
      }
    },
    {
      "cell_type": "code",
      "source": [
        "#write a data generator for keras\n",
        "random.seed(0)  # let's fix the seed so the results can be repeated\n",
        "class SequenceDataGenerator(Sequence):\n",
        "    \"\"\"Custom data generator for loading and preprocessing NumPy files.\n",
        "\n",
        "    Attributes:\n",
        "        data_path: The path to the directory containing the NumPy files.\n",
        "        x_filenames: List of filenames for the NumPy data files.\n",
        "        y_labels: List of labels (optional), loaded from the CSV file.\n",
        "        batch_size: The number of samples to yield in each batch.\n",
        "        shuffle: Whether to shuffle the data during each epoch (default: True).\n",
        "        n_channels: The number of channels/features in the data (default: 1).\n",
        "        target_size: max length for padding or clipping.\n",
        "        preprocessing_fn: An optional function to apply preprocessing to the data.\n",
        "    \"\"\"\n",
        "\n",
        "    def __init__(self, data_path, labels_dict=None, batch_size=32, shuffle=True, n_channels=1, target_size=None, preprocessing_fn=None):\n",
        "        self.data_path = data_path\n",
        "        self.x_filenames = sorted([f for f in os.listdir(data_path) if f.endswith(\".npy\")])\n",
        "        self.y_labels = np.asarray([labels_dict[f.split('_')[2]] for f in self.x_filenames])\n",
        "        self.batch_size = batch_size\n",
        "        self.n_channels = n_channels\n",
        "        self.shuffle = shuffle\n",
        "        self.target_size = target_size\n",
        "        self.preprocessing_fn = preprocessing_fn\n",
        "\n",
        "        if self.shuffle:\n",
        "            shuffled_files = self.x_filenames.copy()\n",
        "            shuffled_labels = self.y_labels.copy()\n",
        "            indices = list(range(len(self.x_filenames)))\n",
        "            random.shuffle(indices)\n",
        "            for i, idx in enumerate(indices):\n",
        "                shuffled_files[i] = self.x_filenames[idx]\n",
        "                shuffled_labels[i] = self.y_labels[idx]\n",
        "            self.x_filenames = shuffled_files\n",
        "            self.y_labels = shuffled_labels\n",
        "\n",
        "    def __len__(self):\n",
        "        \"\"\"Returns the number of batches in the dataset.\"\"\"\n",
        "        return int(np.ceil(len(self.x_filenames) / self.batch_size))\n",
        "\n",
        "    def __getitem__(self, idx):\n",
        "        \"\"\"Generates one batch of data.\"\"\"\n",
        "        # Get list of filenames for this batch\n",
        "        batch_filenames = self.x_filenames[idx * self.batch_size : (idx + 1) * self.batch_size]\n",
        "\n",
        "        # Load data (X) from NumPy files\n",
        "        X = np.zeros((self.batch_size,self.target_size,self.n_channels))\n",
        "        for i,filename in enumerate(batch_filenames):\n",
        "            data = np.load(os.path.join(self.data_path, filename))\n",
        "            if self.target_size:\n",
        "                if data.shape[0] > self.target_size:\n",
        "                    data = data[:self.target_size,:]\n",
        "                elif data.shape[0] < self.target_size:\n",
        "                    data = pad_sequences(data.T, maxlen=self.target_size, padding='post', dtype='float32', value=-1).T\n",
        "            X[i,:,:] = data\n",
        "\n",
        "                # Load labels (y) if provided\n",
        "        y = None\n",
        "        if self.y_labels is not None:\n",
        "            y = self.y_labels[idx * self.batch_size : (idx + 1) * self.batch_size]\n",
        "\n",
        "        # Apply preprocessing function (optional)\n",
        "        if self.preprocessing_fn:\n",
        "            X = self.preprocessing_fn(X)\n",
        "        if X.shape[0]>len(y):\n",
        "            X=X[:len(y),:,:]\n",
        "        return X, y  # Return data (X) and labels (y) if available\n",
        "\n",
        "    def on_epoch_end(self):\n",
        "        \"\"\"Optionally shuffle data at the end of each epoch.\"\"\"\n",
        "        if self.shuffle:\n",
        "            shuffled_files = self.x_filenames.copy()\n",
        "            shuffled_labels = self.y_labels.copy()\n",
        "            indices = list(range(len(self.x_filenames)))\n",
        "            random.shuffle(indices)\n",
        "            for i, idx in enumerate(indices):\n",
        "                shuffled_files[i] = self.x_filenames[idx]\n",
        "                shuffled_labels[i] = self.y_labels[idx]\n",
        "            self.x_filenames = shuffled_files\n",
        "            self.y_labels = shuffled_labels\n"
      ],
      "metadata": {
        "id": "niQBGpqKfIdl"
      },
      "execution_count": null,
      "outputs": []
    },
    {
      "cell_type": "markdown",
      "source": [
        "Let's instantiate data loaders for openface splits."
      ],
      "metadata": {
        "id": "sEJeKNXFo7yF"
      }
    },
    {
      "cell_type": "code",
      "source": [
        "#data generators (loaders) for openface\n",
        "# Parameters for openface\n",
        "params = {'data_path': os.path.join(features_path, feature_sets[0], 'train'), 'labels_dict': labels_dict, 'batch_size': 32, 'shuffle': True, 'n_channels': FEATURE_SIZE_OPENFACE, 'target_size':  MAX_LEN, 'preprocessing_fn': None}\n",
        "train_generator_openface = SequenceDataGenerator(**params)\n",
        "\n",
        "params = {'data_path': os.path.join(features_path, feature_sets[0], 'val'), 'labels_dict': labels_dict, 'batch_size': 32, 'shuffle': False, 'n_channels': FEATURE_SIZE_OPENFACE, 'target_size': MAX_LEN, 'preprocessing_fn': None}\n",
        "val_generator_openface = SequenceDataGenerator(**params)\n",
        "\n",
        "params = {'data_path': os.path.join(features_path, feature_sets[0], 'test'), 'labels_dict': labels_dict, 'batch_size': 32, 'shuffle': False, 'n_channels': FEATURE_SIZE_OPENFACE, 'target_size': MAX_LEN, 'preprocessing_fn': None}\n",
        "test_generator_openface = SequenceDataGenerator(**params)"
      ],
      "metadata": {
        "id": "ew3SAEA6fWbD"
      },
      "execution_count": null,
      "outputs": []
    },
    {
      "cell_type": "markdown",
      "source": [
        "Define a unimodal model for ingesting a sequence (GRU)\n",
        " and classifying into six classes"
      ],
      "metadata": {
        "id": "j-_gAGh3qOs6"
      }
    },
    {
      "cell_type": "code",
      "source": [
        "# Define your model architecture here\n",
        "from tensorflow.keras.models import Sequential\n",
        "from tensorflow.keras.layers import GRU, Dense, Input\n",
        "\n",
        "# Model definition\n",
        "def build_gru_model(feature_size, num_classes):\n",
        "    model = tf.keras.Sequential([\n",
        "        tf.keras.layers.Input(shape=(None, feature_size)),  # Input layer\n",
        "        tf.keras.layers.GRU(64),  # GRU layer with 64 units\n",
        "        tf.keras.layers.Dense(num_classes, activation='softmax')  # Output layer\n",
        "    ])\n",
        "\n",
        "    model.compile(optimizer='adam', loss='sparse_categorical_crossentropy', metrics=['accuracy'])\n",
        "    return model"
      ],
      "metadata": {
        "id": "TjMLUpBemAw-"
      },
      "execution_count": null,
      "outputs": []
    },
    {
      "cell_type": "markdown",
      "source": [
        "Here we build, train and evaluate a unimodal model that uses openface features."
      ],
      "metadata": {
        "id": "6FiKp6SfqXee"
      }
    },
    {
      "cell_type": "code",
      "source": [
        "NUM_CLASSES = 6  # Number of emotion categories\n",
        "\n",
        "# Build and train the OpenFace model\n",
        "model_openface = build_gru_model(FEATURE_SIZE_OPENFACE, NUM_CLASSES)\n",
        "#model_openface.fit(train_ds_openface, epochs=5, validation_data=val_ds_openface)\n",
        "#model_openface.evaluate(test_ds_openface)\n",
        "model_openface.fit(train_generator_openface, epochs=5, validation_data=val_generator_openface)\n",
        "results=model_openface.evaluate(test_generator_openface)\n",
        "openface_preds = model_openface.predict(test_generator_openface)\n",
        "\n",
        "print(\"test accuracy is {:.2f}\".format(results[1]*100))"
      ],
      "metadata": {
        "id": "RNW9JsWPyHoY",
        "colab": {
          "base_uri": "https://localhost:8080/"
        },
        "outputId": "61fa8e35-0771-4ac8-b2c4-2de2483af9e2"
      },
      "execution_count": null,
      "outputs": [
        {
          "output_type": "stream",
          "name": "stdout",
          "text": [
            "Epoch 1/5\n",
            "35/35 [==============================] - 4s 27ms/step - loss: 1.6593 - accuracy: 0.3101 - val_loss: 1.5032 - val_accuracy: 0.3770\n",
            "Epoch 2/5\n",
            "35/35 [==============================] - 1s 16ms/step - loss: 1.4605 - accuracy: 0.4033 - val_loss: 1.3427 - val_accuracy: 0.4617\n",
            "Epoch 3/5\n",
            "35/35 [==============================] - 1s 16ms/step - loss: 1.3693 - accuracy: 0.4340 - val_loss: 1.2878 - val_accuracy: 0.4781\n",
            "Epoch 4/5\n",
            "35/35 [==============================] - 0s 11ms/step - loss: 1.3201 - accuracy: 0.4720 - val_loss: 1.2850 - val_accuracy: 0.4781\n",
            "Epoch 5/5\n",
            "35/35 [==============================] - 0s 11ms/step - loss: 1.2738 - accuracy: 0.4819 - val_loss: 1.2497 - val_accuracy: 0.5191\n",
            "13/13 [==============================] - 0s 7ms/step - loss: 1.2852 - accuracy: 0.5039\n",
            "13/13 [==============================] - 0s 6ms/step\n",
            "test accuracy is 50.39\n"
          ]
        }
      ]
    },
    {
      "cell_type": "markdown",
      "source": [
        "Let's instantiate data loaders for trill splits."
      ],
      "metadata": {
        "id": "idF1LmfPpFI5"
      }
    },
    {
      "cell_type": "code",
      "source": [
        "#data generators (loaders) for trill\n",
        "# Parameters for trill\n",
        "params = {'data_path': os.path.join(features_path, feature_sets[1], 'train'), 'labels_dict': labels_dict, 'batch_size': 32, 'shuffle': True, 'n_channels': FEATURE_SIZE_TRILL, 'target_size':  MAX_LEN, 'preprocessing_fn': None}\n",
        "train_generator_trill = SequenceDataGenerator(**params)\n",
        "\n",
        "params['shuffle'] = False # No need to shuffle for validation data\n",
        "params = {'data_path': os.path.join(features_path, feature_sets[1], 'val'), 'labels_dict': labels_dict, 'batch_size': 32, 'shuffle': False, 'n_channels': FEATURE_SIZE_TRILL, 'target_size': MAX_LEN, 'preprocessing_fn': None}\n",
        "val_generator_trill = SequenceDataGenerator(**params)\n",
        "\n",
        "params['shuffle'] = False # No need to shuffle for test data\n",
        "params = {'data_path': os.path.join(features_path, feature_sets[1], 'test'), 'labels_dict': labels_dict, 'batch_size': 32, 'shuffle': False, 'n_channels': FEATURE_SIZE_TRILL, 'target_size': MAX_LEN, 'preprocessing_fn': None}\n",
        "test_generator_trill = SequenceDataGenerator(**params)"
      ],
      "metadata": {
        "id": "En-6OYjWl_68"
      },
      "execution_count": null,
      "outputs": []
    },
    {
      "cell_type": "markdown",
      "source": [
        "Repeat the same steps for trill"
      ],
      "metadata": {
        "id": "MtyWfHQm0-vi"
      }
    },
    {
      "cell_type": "code",
      "source": [
        "# Build and train the TRILL model\n",
        "model_trill = build_gru_model(FEATURE_SIZE_TRILL, NUM_CLASSES)\n",
        "model_trill.fit(train_generator_trill, epochs=5, validation_data=val_generator_trill)\n",
        "results = model_trill.evaluate(test_generator_trill)\n",
        "trill_preds = model_trill.predict(test_generator_trill)\n",
        "print(\"test accuracy is {:.2f}\".format(results[1]*100))"
      ],
      "metadata": {
        "id": "qUJpMaj51Jpu",
        "colab": {
          "base_uri": "https://localhost:8080/"
        },
        "outputId": "80e41fcc-c898-4047-b798-8ced19f2b4eb"
      },
      "execution_count": null,
      "outputs": [
        {
          "output_type": "stream",
          "name": "stdout",
          "text": [
            "Epoch 1/5\n",
            "35/35 [==============================] - 3s 45ms/step - loss: 1.8083 - accuracy: 0.2188 - val_loss: 1.7463 - val_accuracy: 0.2596\n",
            "Epoch 2/5\n",
            "35/35 [==============================] - 1s 33ms/step - loss: 1.6895 - accuracy: 0.3002 - val_loss: 1.5482 - val_accuracy: 0.3607\n",
            "Epoch 3/5\n",
            "35/35 [==============================] - 1s 33ms/step - loss: 1.5057 - accuracy: 0.3626 - val_loss: 1.4806 - val_accuracy: 0.3962\n",
            "Epoch 4/5\n",
            "35/35 [==============================] - 1s 32ms/step - loss: 1.4442 - accuracy: 0.3969 - val_loss: 1.4616 - val_accuracy: 0.3880\n",
            "Epoch 5/5\n",
            "35/35 [==============================] - 2s 44ms/step - loss: 1.4097 - accuracy: 0.4186 - val_loss: 1.4363 - val_accuracy: 0.4044\n",
            "13/13 [==============================] - 1s 40ms/step - loss: 1.4453 - accuracy: 0.4242\n",
            "13/13 [==============================] - 1s 20ms/step\n",
            "test accuracy is 42.42\n"
          ]
        }
      ]
    },
    {
      "cell_type": "markdown",
      "source": [
        "Let's instantiate data loaders for early fusion (concatenated) splits."
      ],
      "metadata": {
        "id": "qsz3AYRjpIPO"
      }
    },
    {
      "cell_type": "code",
      "source": [
        "#data generators (loaders) for early fusion\n",
        "# Parameters for both\n",
        "params = {'data_path': os.path.join(features_path, feature_sets[2], 'train'), 'labels_dict': labels_dict, 'batch_size': 32, 'shuffle': True, 'n_channels': FEATURE_SIZE_TRILL+FEATURE_SIZE_OPENFACE, 'target_size':  MAX_LEN, 'preprocessing_fn': None}\n",
        "train_generator_ef = SequenceDataGenerator(**params)\n",
        "\n",
        "params['shuffle'] = False # No need to shuffle for validation data\n",
        "params = {'data_path': os.path.join(features_path, feature_sets[2], 'val'), 'labels_dict': labels_dict, 'batch_size': 32, 'shuffle': False, 'n_channels': FEATURE_SIZE_TRILL+FEATURE_SIZE_OPENFACE, 'target_size': MAX_LEN, 'preprocessing_fn': None}\n",
        "val_generator_ef = SequenceDataGenerator(**params)\n",
        "\n",
        "params['shuffle'] = False # No need to shuffle for test data\n",
        "params = {'data_path': os.path.join(features_path, feature_sets[2], 'test'), 'labels_dict': labels_dict, 'batch_size': 32, 'shuffle': False, 'n_channels': FEATURE_SIZE_OPENFACE+FEATURE_SIZE_TRILL, 'target_size': MAX_LEN, 'preprocessing_fn': None}\n",
        "test_generator_ef = SequenceDataGenerator(**params)"
      ],
      "metadata": {
        "id": "AipCo4xx29hX"
      },
      "execution_count": null,
      "outputs": []
    },
    {
      "cell_type": "markdown",
      "source": [
        "Let's define a simple model with one or two GRU layers for emotion recognition using concatenated features"
      ],
      "metadata": {
        "id": "-xGC4eIpp93t"
      }
    },
    {
      "cell_type": "code",
      "source": [
        "# Model building function for early fusion\n",
        "def build_ef_gru_model(input_shape, num_classes):\n",
        "    model = tf.keras.Sequential([\n",
        "        tf.keras.layers.Input(shape=input_shape),  # Input layer\n",
        "        tf.keras.layers.GRU(64, return_sequences=True),  # GRU layer with 64 units, return sequences\n",
        "        tf.keras.layers.GRU(64),  # Second GRU layer with 64 units\n",
        "        tf.keras.layers.Dense(num_classes, activation='softmax')  # Output layer\n",
        "    ])\n",
        "    model.compile(optimizer='adam', loss='sparse_categorical_crossentropy', metrics=['accuracy'])\n",
        "    return model"
      ],
      "metadata": {
        "id": "h0FnGQha5mjt"
      },
      "execution_count": null,
      "outputs": []
    },
    {
      "cell_type": "code",
      "source": [
        "# Build and train the early fusion model\n",
        "model_ef = build_gru_model(FEATURE_SIZE_TRILL+FEATURE_SIZE_OPENFACE, NUM_CLASSES)\n",
        "model_ef.fit(train_generator_ef, epochs=5, validation_data=val_generator_ef)\n",
        "results = model_ef.evaluate(test_generator_ef)\n",
        "print(\"test accuracy is {:.2f}\".format(results[1]*100))"
      ],
      "metadata": {
        "id": "78_xSlVLmdU8",
        "colab": {
          "base_uri": "https://localhost:8080/"
        },
        "outputId": "b66fe819-5475-4a08-a161-ea6d6b1d4563"
      },
      "execution_count": null,
      "outputs": [
        {
          "output_type": "stream",
          "name": "stdout",
          "text": [
            "Epoch 1/5\n",
            "35/35 [==============================] - 3s 44ms/step - loss: 1.6868 - accuracy: 0.2984 - val_loss: 1.5206 - val_accuracy: 0.4098\n",
            "Epoch 2/5\n",
            "35/35 [==============================] - 1s 34ms/step - loss: 1.4159 - accuracy: 0.4259 - val_loss: 1.2773 - val_accuracy: 0.4781\n",
            "Epoch 3/5\n",
            "35/35 [==============================] - 1s 33ms/step - loss: 1.2432 - accuracy: 0.4946 - val_loss: 1.1690 - val_accuracy: 0.5246\n",
            "Epoch 4/5\n",
            "35/35 [==============================] - 1s 33ms/step - loss: 1.0753 - accuracy: 0.5705 - val_loss: 1.0454 - val_accuracy: 0.6284\n",
            "Epoch 5/5\n",
            "35/35 [==============================] - 1s 34ms/step - loss: 1.0133 - accuracy: 0.6040 - val_loss: 1.0452 - val_accuracy: 0.5956\n",
            "13/13 [==============================] - 0s 22ms/step - loss: 1.0612 - accuracy: 0.6170\n",
            "test accuracy is 61.70\n"
          ]
        }
      ]
    },
    {
      "cell_type": "markdown",
      "source": [
        "Any easy way for perform late fusion is to average the logits from unimodal models. We can do that using the trained trill and openface models. How does the performance compare the early fusion?"
      ],
      "metadata": {
        "id": "drTNkyl_p0sa"
      }
    },
    {
      "cell_type": "code",
      "source": [
        "#late fusion with two unimodal models\n",
        "\n",
        "def predict_dataset(model, dataset):\n",
        "    all_preds = []\n",
        "    for features, _ in dataset:\n",
        "        preds = model.predict(features)\n",
        "        all_preds.append(preds)\n",
        "    return np.concatenate(all_preds)\n",
        "\n",
        "def calculate_late_fusion_accuracy(combined_preds, model_trill, test_generator_openface, test_generator_trill):\n",
        "    # Predict with both models\n",
        "    openface_preds = predict_dataset(model_openface, test_generator_openface)\n",
        "    trill_preds = predict_dataset(model_trill, test_generator_trill)\n",
        "\n",
        "    # Late fusion: averaging predictions\n",
        "    combined_preds = (openface_preds + trill_preds) / 2\n",
        "\n",
        "    val_labels = np.concatenate([y for _, y in test_generator_trill])\n",
        "\n",
        "    predicted_labels = np.argmax(combined_preds, axis=1)\n",
        "    accuracy = accuracy_score(val_labels, predicted_labels)\n",
        "    print(\"Late Fusion Accuracy test accuracy is {:.2f}\".format(accuracy*100))\n",
        "\n",
        "\n",
        "calculate_late_fusion_accuracy(model_openface, model_trill, test_generator_openface, test_generator_trill)"
      ],
      "metadata": {
        "id": "KqWKCCa1nckZ",
        "colab": {
          "base_uri": "https://localhost:8080/"
        },
        "outputId": "f2b3dde4-fbf0-41fe-d165-60eaa2c28d1b"
      },
      "execution_count": null,
      "outputs": [
        {
          "output_type": "stream",
          "name": "stdout",
          "text": [
            "1/1 [==============================] - 0s 314ms/step\n",
            "1/1 [==============================] - 0s 20ms/step\n",
            "1/1 [==============================] - 0s 17ms/step\n",
            "1/1 [==============================] - 0s 17ms/step\n",
            "1/1 [==============================] - 0s 17ms/step\n",
            "1/1 [==============================] - 0s 15ms/step\n",
            "1/1 [==============================] - 0s 28ms/step\n",
            "1/1 [==============================] - 0s 31ms/step\n",
            "1/1 [==============================] - 0s 29ms/step\n",
            "1/1 [==============================] - 0s 24ms/step\n",
            "1/1 [==============================] - 0s 23ms/step\n",
            "1/1 [==============================] - 0s 27ms/step\n",
            "1/1 [==============================] - 0s 414ms/step\n",
            "1/1 [==============================] - 0s 431ms/step\n",
            "1/1 [==============================] - 0s 31ms/step\n",
            "1/1 [==============================] - 0s 25ms/step\n",
            "1/1 [==============================] - 0s 24ms/step\n",
            "1/1 [==============================] - 0s 28ms/step\n",
            "1/1 [==============================] - 0s 29ms/step\n",
            "1/1 [==============================] - 0s 17ms/step\n",
            "1/1 [==============================] - 0s 28ms/step\n",
            "1/1 [==============================] - 0s 16ms/step\n",
            "1/1 [==============================] - 0s 18ms/step\n",
            "1/1 [==============================] - 0s 18ms/step\n",
            "1/1 [==============================] - 0s 17ms/step\n",
            "1/1 [==============================] - 0s 286ms/step\n",
            "Late Fusion Accuracy test accuracy is 63.75\n"
          ]
        }
      ]
    },
    {
      "cell_type": "markdown",
      "source": [
        "# Fancy fusion\n",
        "If you want to develop fancier fusion algorithms, you need a data loader that can yield separate batches of data for each modality. Here is one that can be used for this dataset."
      ],
      "metadata": {
        "id": "q0Y7jw2KpOyi"
      }
    },
    {
      "cell_type": "code",
      "source": [
        "#bimodal data loader\n",
        "#this assumes that exactly the same file names exists for both modalities\n",
        "random.seed(0)  # let's fix the seed so the results can be repeated\n",
        "class SequenceDataGeneratorFusion(Sequence):\n",
        "    \"\"\"Custom data generator for loading and preprocessing NumPy files.\n",
        "\n",
        "    Attributes:\n",
        "        data_path: A list of two pathes to the directories containing the NumPy files.\n",
        "        x_filenames: A List of filenames for the NumPy data files.\n",
        "        y_labels: List of labels (optional), loaded from the CSV file.\n",
        "        batch_size: The number of samples to yield in each batch.\n",
        "        shuffle: Whether to shuffle the data during each epoch (default: True).\n",
        "        n_channels: A list of numbers of channels/features in the data (default: 1).\n",
        "        target_size: max length for padding or clipping.\n",
        "        preprocessing_fn: An optional function to apply preprocessing to the data.\n",
        "    \"\"\"\n",
        "\n",
        "    def __init__(self, data_path, labels_dict=None, batch_size=32, shuffle=True, n_channels=[1,1], target_size=None, preprocessing_fn=None):\n",
        "        self.data_path = data_path\n",
        "        self.x_filenames = sorted([f for f in os.listdir(data_path[0]) if f.endswith(\".npy\")])\n",
        "        self.y_labels = np.asarray([labels_dict[f.split('_')[2]] for f in self.x_filenames])\n",
        "        self.batch_size = batch_size\n",
        "        self.n_channels = n_channels\n",
        "        self.shuffle = shuffle\n",
        "        self.target_size = target_size\n",
        "        self.preprocessing_fn = preprocessing_fn\n",
        "\n",
        "        if self.shuffle:\n",
        "            shuffled_files = self.x_filenames.copy()\n",
        "            shuffled_labels = self.y_labels.copy()\n",
        "            indices = list(range(len(self.x_filenames)))\n",
        "            random.shuffle(indices)\n",
        "            for i, idx in enumerate(indices):\n",
        "                shuffled_files[i] = self.x_filenames[idx]\n",
        "                shuffled_labels[i] = self.y_labels[idx]\n",
        "            self.x_filenames = shuffled_files\n",
        "            self.y_labels = shuffled_labels\n",
        "\n",
        "    def __len__(self):\n",
        "        \"\"\"Returns the number of batches in the dataset.\"\"\"\n",
        "        return int(np.ceil(len(self.x_filenames) / self.batch_size))\n",
        "\n",
        "    def __getitem__(self, idx):\n",
        "        \"\"\"Generates one batch of data.\"\"\"\n",
        "        # Get list of filenames for this batch\n",
        "        batch_filenames = self.x_filenames[idx * self.batch_size : (idx + 1) * self.batch_size]\n",
        "\n",
        "        # Load data (X) from NumPy files\n",
        "        X = [np.zeros((self.batch_size,self.target_size,self.n_channels[j])) for j in range(len(self.data_path))]\n",
        "        for i,filename in enumerate(batch_filenames):\n",
        "            data = [np.load(os.path.join(self.data_path[j], filename)) for j in range(len(self.data_path))]\n",
        "            if self.target_size:\n",
        "                for j in range(2):\n",
        "                    if data[j].shape[0] > self.target_size:\n",
        "                        data[j] = data[j][:self.target_size,:]\n",
        "                    elif data[j].shape[0] < self.target_size:\n",
        "                        data[j] = pad_sequences(data[j].T, maxlen=self.target_size, padding='post', dtype='float32', value=-1).T\n",
        "            for j in range(len(self.data_path)):\n",
        "                X[j][i,:,:] = data[j]\n",
        "\n",
        "        y = None\n",
        "        if self.y_labels is not None:\n",
        "            y = self.y_labels[idx * self.batch_size : (idx + 1) * self.batch_size]\n",
        "\n",
        "        # Apply preprocessing function (optional)\n",
        "        if self.preprocessing_fn:\n",
        "            for j in range(len(self.data_path)):\n",
        "                X[j] = self.preprocessing_fn(X[j])\n",
        "        for j in range(len(self.data_path)):\n",
        "            if X[j].shape[0]>len(y):\n",
        "                X[j]=X[j][:len(y),:,:]\n",
        "        return X, y  # Return data (X) and labels (y) if available\n",
        "\n",
        "    def on_epoch_end(self):\n",
        "        \"\"\"Optionally shuffle data at the end of each epoch.\"\"\"\n",
        "        if self.shuffle:\n",
        "            shuffled_files = self.x_filenames.copy()\n",
        "            shuffled_labels = self.y_labels.copy()\n",
        "            indices = list(range(len(self.x_filenames)))\n",
        "            random.shuffle(indices)\n",
        "            for i, idx in enumerate(indices):\n",
        "                shuffled_files[i] = self.x_filenames[idx]\n",
        "                shuffled_labels[i] = self.y_labels[idx]\n",
        "            self.x_filenames = shuffled_files\n",
        "            self.y_labels = shuffled_labels\n"
      ],
      "metadata": {
        "id": "pQjlyzIdqEE7"
      },
      "execution_count": null,
      "outputs": []
    },
    {
      "cell_type": "code",
      "source": [
        "#data generators (loaders) for bimodal fusion\n",
        "params = {'data_path': [os.path.join(features_path, feature_sets[0], 'train'), os.path.join(features_path, feature_sets[1], 'train')], 'labels_dict': labels_dict, 'batch_size': 32, 'shuffle': True, 'n_channels': [FEATURE_SIZE_OPENFACE,FEATURE_SIZE_TRILL], 'target_size':  MAX_LEN, 'preprocessing_fn': None}\n",
        "train_generator_bimodal = SequenceDataGeneratorFusion(**params)\n",
        "\n",
        "params = {'data_path': [os.path.join(features_path, feature_sets[0], 'val'), os.path.join(features_path, feature_sets[1], 'val')], 'labels_dict': labels_dict, 'batch_size': 32, 'shuffle': True, 'n_channels': [FEATURE_SIZE_OPENFACE,FEATURE_SIZE_TRILL], 'target_size':  MAX_LEN, 'preprocessing_fn': None}\n",
        "val_generator_bimodal = SequenceDataGeneratorFusion(**params)\n",
        "\n",
        "params = {'data_path': [os.path.join(features_path, feature_sets[0], 'test'), os.path.join(features_path, feature_sets[1], 'test')], 'labels_dict': labels_dict, 'batch_size': 32, 'shuffle': True, 'n_channels': [FEATURE_SIZE_OPENFACE,FEATURE_SIZE_TRILL], 'target_size':  MAX_LEN, 'preprocessing_fn': None}\n",
        "test_generator_bimodal = SequenceDataGeneratorFusion(**params)"
      ],
      "metadata": {
        "id": "hkhXGbToDqkH"
      },
      "execution_count": null,
      "outputs": []
    },
    {
      "cell_type": "markdown",
      "source": [
        "Define a bimodal fusion model with two branches that can be fused at the end with concatenation of the last hidden states of the GRUs.\n",
        "\n",
        "---\n",
        "\n"
      ],
      "metadata": {
        "id": "WyyNdWaype40"
      }
    },
    {
      "cell_type": "code",
      "source": [
        "# Model building function for fusion two GRUs, one for each modality with their final hidden states being concatenated and passed through a linear layer for fusion\n",
        "# Model definition\n",
        "def build_gru_fusion_model(feature_sizes, num_classes, MAX_LEN):\n",
        "    input_modal1 = tf.keras.layers.Input(shape=(MAX_LEN, feature_sizes[0]), name='input_modal1')\n",
        "    input_modal2 = tf.keras.layers.Input(shape=(MAX_LEN, feature_sizes[1]), name='input_modal2')\n",
        "\n",
        "    gru1 = tf.keras.layers.GRU(128, return_sequences=False)(input_modal1)\n",
        "    gru2 = tf.keras.layers.GRU(64, return_sequences=False)(input_modal2)\n",
        "\n",
        "    concatenated = tf.keras.layers.concatenate([gru1, gru2])\n",
        "    fusion_dense = tf.keras.layers.Dense(64, activation='relu')(concatenated)\n",
        "\n",
        "    output = tf.keras.layers.Dense(num_classes, activation='softmax')(fusion_dense)\n",
        "    model = tf.keras.Model(inputs=[input_modal1, input_modal2], outputs=output)\n",
        "    model.compile(optimizer='adam', loss='sparse_categorical_crossentropy', metrics=['accuracy'])\n",
        "    return model\n"
      ],
      "metadata": {
        "id": "7x5B3xQ9HjM8"
      },
      "execution_count": null,
      "outputs": []
    },
    {
      "cell_type": "markdown",
      "source": [
        "Let's train the bimodal model and evaluate it. Does this give better performance?"
      ],
      "metadata": {
        "id": "dT6-b3SOptda"
      }
    },
    {
      "cell_type": "code",
      "source": [
        "# Build and train the bimodal fusion model\n",
        "model_fusion = build_gru_fusion_model([FEATURE_SIZE_OPENFACE,FEATURE_SIZE_TRILL], NUM_CLASSES,MAX_LEN)\n",
        "model_fusion.fit(train_generator_bimodal, epochs=5, validation_data=val_generator_bimodal)\n",
        "results = model_fusion.evaluate(test_generator_bimodal)\n",
        "print(\"test accuracy is {:.2f}\".format(results[1]*100))"
      ],
      "metadata": {
        "id": "9HdxcGWuJSjX",
        "colab": {
          "base_uri": "https://localhost:8080/"
        },
        "outputId": "846e413c-24b0-4bb9-df68-a650eb37b4aa"
      },
      "execution_count": null,
      "outputs": [
        {
          "output_type": "stream",
          "name": "stdout",
          "text": [
            "Epoch 1/5\n",
            "35/35 [==============================] - 14s 172ms/step - loss: 1.6371 - accuracy: 0.3246 - val_loss: 1.4269 - val_accuracy: 0.4317\n",
            "Epoch 2/5\n",
            "35/35 [==============================] - 2s 65ms/step - loss: 1.3851 - accuracy: 0.4566 - val_loss: 1.2313 - val_accuracy: 0.5164\n",
            "Epoch 3/5\n",
            "35/35 [==============================] - 1s 39ms/step - loss: 1.1813 - accuracy: 0.5307 - val_loss: 1.0744 - val_accuracy: 0.5956\n",
            "Epoch 4/5\n",
            "35/35 [==============================] - 1s 39ms/step - loss: 1.0733 - accuracy: 0.5841 - val_loss: 1.0730 - val_accuracy: 0.5874\n",
            "Epoch 5/5\n",
            "35/35 [==============================] - 2s 64ms/step - loss: 1.0181 - accuracy: 0.5995 - val_loss: 1.0471 - val_accuracy: 0.5792\n",
            "13/13 [==============================] - 0s 25ms/step - loss: 1.0551 - accuracy: 0.5990\n",
            "test accuracy is 59.90\n"
          ]
        }
      ]
    },
    {
      "cell_type": "code",
      "source": [],
      "metadata": {
        "id": "u6l6mx-5pNL9"
      },
      "execution_count": null,
      "outputs": []
    }
  ],
  "metadata": {
    "kernelspec": {
      "display_name": "Python 3",
      "name": "python3"
    },
    "language_info": {
      "codemirror_mode": {
        "name": "ipython",
        "version": 3
      },
      "file_extension": ".py",
      "mimetype": "text/x-python",
      "name": "python",
      "nbconvert_exporter": "python",
      "pygments_lexer": "ipython3",
      "version": "3.10.11"
    },
    "colab": {
      "provenance": [],
      "gpuType": "T4"
    },
    "accelerator": "GPU"
  },
  "nbformat": 4,
  "nbformat_minor": 0
}