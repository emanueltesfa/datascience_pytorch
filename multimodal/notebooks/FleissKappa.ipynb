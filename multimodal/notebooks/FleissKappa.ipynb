{
 "cells": [
  {
   "cell_type": "code",
   "execution_count": 1,
   "metadata": {},
   "outputs": [],
   "source": [
    "import pandas as pd \n",
    "from typing import List, Any\n",
    "import numpy as np \n",
    "from scipy.stats import chi2_contingency"
   ]
  },
  {
   "cell_type": "markdown",
   "metadata": {},
   "source": [
    "# PART 1\n",
    "### Data Importing"
   ]
  },
  {
   "cell_type": "code",
   "execution_count": 2,
   "metadata": {},
   "outputs": [
    {
     "name": "stdout",
     "output_type": "stream",
     "text": [
      "(1471, 27)\n"
     ]
    },
    {
     "data": {
      "text/plain": [
       "Index(['Unnamed: 0', 'A', 'D', 'F', 'H', 'N', 'S', 'fileName', 'numResponses',\n",
       "       'agreement', 'emoVote', 'meanEmoResp', 'meanAngerResp',\n",
       "       'meanDisgustResp', 'meanFearResp', 'meanHappyResp', 'meanNeutralResp',\n",
       "       'meanSadResp', 'medianEmoResp', 'meanEmoRespNorm', 'meanAngerRespNorm',\n",
       "       'meanDisgustRespNorm', 'meanFearRespNorm', 'meanHappyRespNorm',\n",
       "       'meanNeutralRespNorm', 'meanSadRespNorm', 'medianEmoRespNorm'],\n",
       "      dtype='object')"
      ]
     },
     "execution_count": 2,
     "metadata": {},
     "output_type": "execute_result"
    }
   ],
   "source": [
    "votes_df = pd.read_csv(\"./data/tabulatedVotes.csv\")\n",
    "print(votes_df.shape)\n",
    "votes_df.columns"
   ]
  },
  {
   "cell_type": "markdown",
   "metadata": {},
   "source": [
    "### Fleiss Kappa function"
   ]
  },
  {
   "cell_type": "code",
   "execution_count": 10,
   "metadata": {},
   "outputs": [],
   "source": [
    "def calculate_fleiss_kappa(df: pd.DataFrame, categories: List[str], N: int) -> float:\n",
    "    \"\"\"\n",
    "    Calculate Fleiss' kappa for inter-rater reliability.\n",
    "\n",
    "    Fleiss' kappa is a statistical measure for assessing the reliability of agreement between a fixed number\n",
    "    of raters when assigning categorical ratings to a number of items.\n",
    "\n",
    "    Parameters:\n",
    "    votes_df (pd.DataFrame): A DataFrame containing the rating data.\n",
    "    rating_columns (List[str]): A list of column names in the DataFrame that contain the ratings.\n",
    "    N (int): The total number of items rated.\n",
    "\n",
    "    Returns:\n",
    "    float: The calculated Fleiss' kappa score.\n",
    "    \"\"\"\n",
    "    \n",
    "    if len(df) <= 0:\n",
    "        raise ValueError(\"The dataset must contain at least one item.\")\n",
    "    \n",
    "    n = df[categories].sum(axis=1).iloc[0]  \n",
    "    \n",
    "    category_proportions = df[categories].sum() / (N * n)\n",
    "    agreement_proportions = df[categories].apply(lambda x: (x * (x - 1)).sum(), axis=1) / (n * (n - 1))\n",
    "    \n",
    "    P_o = agreement_proportions.mean()\n",
    "    P_e = (category_proportions ** 2).sum()\n",
    "    \n",
    "    kappa = (P_o - P_e) / (1 - P_e)\n",
    "    \n",
    "    return kappa\n"
   ]
  },
  {
   "cell_type": "code",
   "execution_count": 11,
   "metadata": {},
   "outputs": [
    {
     "name": "stdout",
     "output_type": "stream",
     "text": [
      "Fleiss' kappa: 0.4803\n"
     ]
    }
   ],
   "source": [
    "kappa_score = calculate_fleiss_kappa(votes_df, ['A', 'D', 'F', 'H', 'N', 'S'], N=len(votes_df))\n",
    "print(f\"Fleiss' kappa: {kappa_score:.4f}\")"
   ]
  },
  {
   "cell_type": "markdown",
   "metadata": {},
   "source": [
    "# Part 2"
   ]
  },
  {
   "attachments": {
    "image.png": {
     "image/png": "[encoded data removed]"
    }
   },
   "cell_type": "markdown",
   "metadata": {},
   "source": [
    "![image.png](attachment:image.png)"
   ]
  },
  {
   "cell_type": "markdown",
   "metadata": {},
   "source": [
    "# PART 3 "
   ]
  },
  {
   "cell_type": "markdown",
   "metadata": {},
   "source": [
    "SAD audio gesture: Slow speech patterns \n",
    "\n",
    "HAPPY audio gesture: High pitched voice"
   ]
  },
  {
   "cell_type": "markdown",
   "metadata": {},
   "source": [
    "### DATA IMPORTING"
   ]
  },
  {
   "cell_type": "code",
   "execution_count": 5,
   "metadata": {},
   "outputs": [
    {
     "data": {
      "text/plain": [
       "Index(['video_title', 'High Pitch', 'Quiet speech'], dtype='object')"
      ]
     },
     "execution_count": 5,
     "metadata": {},
     "output_type": "execute_result"
    }
   ],
   "source": [
    "emotions_df = pd.read_csv('./data/emotion_annotations.csv')\n",
    "emotions_df = emotions_df[['video_title','High Pitch','Quiet speech']]\n",
    "emotions_df.columns"
   ]
  },
  {
   "cell_type": "markdown",
   "metadata": {},
   "source": [
    "### Data Preparation \n"
   ]
  },
  {
   "cell_type": "code",
   "execution_count": 6,
   "metadata": {},
   "outputs": [],
   "source": [
    "emotions_df['HAPPY'] = emotions_df['video_title'].apply(lambda x: 'HAP' in x)\n",
    "emotions_df['SAD'] = emotions_df['video_title'].apply(lambda x: 'SAD' in x)\n",
    "emotions_df['High Pitch'] = emotions_df['High Pitch'] == 'T'\n",
    "emotions_df['Quiet speech'] = emotions_df['Quiet speech'] == 'T'"
   ]
  },
  {
   "cell_type": "markdown",
   "metadata": {},
   "source": [
    "Pass in contingency table to scipy function"
   ]
  },
  {
   "cell_type": "code",
   "execution_count": 7,
   "metadata": {},
   "outputs": [
    {
     "name": "stdout",
     "output_type": "stream",
     "text": [
      "Chi-Squared statistic for 'High Pitch' HAPPY vs not-HAPPY: 4.94949494949495, P-value: 0.026098291541307085\n",
      "Chi-Squared statistic for 'Quiet speech' SAD vs not-SAD: 5.104166666666666, P-value: 0.023868442164574358\n"
     ]
    }
   ],
   "source": [
    "chi2_stat_happy_high, p_val_happy_high, dof_happy_high, ex_happy_high = chi2_contingency(pd.crosstab(emotions_df['HAPPY'], emotions_df['High Pitch']))\n",
    "\n",
    "chi2_stat_sad_quiet, p_val_sad_quiet, dof_sad_quiet, ex_sad_quiet = chi2_contingency( pd.crosstab(emotions_df['SAD'], emotions_df['Quiet speech']))\n",
    "\n",
    "print(f\"Chi-Squared statistic for 'High Pitch' HAPPY vs not-HAPPY: {chi2_stat_happy_high}, P-value: {p_val_happy_high}\")\n",
    "print(f\"Chi-Squared statistic for 'Quiet speech' SAD vs not-SAD: {chi2_stat_sad_quiet}, P-value: {p_val_sad_quiet}\")"
   ]
  },
  {
   "cell_type": "code",
   "execution_count": 12,
   "metadata": {},
   "outputs": [
    {
     "data": {
      "text/html": [
       "<div>\n",
       "<style scoped>\n",
       "    .dataframe tbody tr th:only-of-type {\n",
       "        vertical-align: middle;\n",
       "    }\n",
       "\n",
       "    .dataframe tbody tr th {\n",
       "        vertical-align: top;\n",
       "    }\n",
       "\n",
       "    .dataframe thead th {\n",
       "        text-align: right;\n",
       "    }\n",
       "</style>\n",
       "<table border=\"1\" class=\"dataframe\">\n",
       "  <thead>\n",
       "    <tr style=\"text-align: right;\">\n",
       "      <th>High Pitch</th>\n",
       "      <th>False</th>\n",
       "      <th>True</th>\n",
       "    </tr>\n",
       "    <tr>\n",
       "      <th>HAPPY</th>\n",
       "      <th></th>\n",
       "      <th></th>\n",
       "    </tr>\n",
       "  </thead>\n",
       "  <tbody>\n",
       "    <tr>\n",
       "      <th>False</th>\n",
       "      <td>15</td>\n",
       "      <td>5</td>\n",
       "    </tr>\n",
       "    <tr>\n",
       "      <th>True</th>\n",
       "      <td>7</td>\n",
       "      <td>13</td>\n",
       "    </tr>\n",
       "  </tbody>\n",
       "</table>\n",
       "</div>"
      ],
      "text/plain": [
       "High Pitch  False  True \n",
       "HAPPY                   \n",
       "False          15      5\n",
       "True            7     13"
      ]
     },
     "execution_count": 12,
     "metadata": {},
     "output_type": "execute_result"
    }
   ],
   "source": [
    "pd.crosstab(emotions_df['HAPPY'], emotions_df['High Pitch'])"
   ]
  },
  {
   "cell_type": "code",
   "execution_count": 13,
   "metadata": {},
   "outputs": [
    {
     "data": {
      "text/html": [
       "<div>\n",
       "<style scoped>\n",
       "    .dataframe tbody tr th:only-of-type {\n",
       "        vertical-align: middle;\n",
       "    }\n",
       "\n",
       "    .dataframe tbody tr th {\n",
       "        vertical-align: top;\n",
       "    }\n",
       "\n",
       "    .dataframe thead th {\n",
       "        text-align: right;\n",
       "    }\n",
       "</style>\n",
       "<table border=\"1\" class=\"dataframe\">\n",
       "  <thead>\n",
       "    <tr style=\"text-align: right;\">\n",
       "      <th>Quiet speech</th>\n",
       "      <th>False</th>\n",
       "      <th>True</th>\n",
       "    </tr>\n",
       "    <tr>\n",
       "      <th>SAD</th>\n",
       "      <th></th>\n",
       "      <th></th>\n",
       "    </tr>\n",
       "  </thead>\n",
       "  <tbody>\n",
       "    <tr>\n",
       "      <th>False</th>\n",
       "      <td>16</td>\n",
       "      <td>4</td>\n",
       "    </tr>\n",
       "    <tr>\n",
       "      <th>True</th>\n",
       "      <td>8</td>\n",
       "      <td>12</td>\n",
       "    </tr>\n",
       "  </tbody>\n",
       "</table>\n",
       "</div>"
      ],
      "text/plain": [
       "Quiet speech  False  True \n",
       "SAD                       \n",
       "False            16      4\n",
       "True              8     12"
      ]
     },
     "execution_count": 13,
     "metadata": {},
     "output_type": "execute_result"
    }
   ],
   "source": [
    "pd.crosstab(emotions_df['SAD'], emotions_df['Quiet speech'])"
   ]
  }
 ],
 "metadata": {
  "kernelspec": {
   "display_name": "pytorch_dl",
   "language": "python",
   "name": "python3"
  },
  "language_info": {
   "codemirror_mode": {
    "name": "ipython",
    "version": 3
   },
   "file_extension": ".py",
   "mimetype": "text/x-python",
   "name": "python",
   "nbconvert_exporter": "python",
   "pygments_lexer": "ipython3",
   "version": "3.12.1"
  }
 },
 "nbformat": 4,
 "nbformat_minor": 2
}
