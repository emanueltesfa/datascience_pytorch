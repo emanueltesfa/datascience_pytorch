{
 "cells": [
  {
   "cell_type": "code",
   "execution_count": 1,
   "metadata": {},
   "outputs": [],
   "source": [
    "import pandas as pd \n",
    "import numpy as np\n",
    "import torch \n",
    "import torch.nn as nn\n",
    "import torch.nn.functional as F\n",
    "from torch.utils.data import Dataset, DataLoader, TensorDataset\n",
    "from torch.nn.utils.rnn import pad_sequence\n",
    "from tqdm import tqdm\n",
    "from sklearn.model_selection import GridSearchCV, train_test_split\n",
    "from sklearn.linear_model import LogisticRegression\n",
    "from sklearn.metrics import accuracy_score, precision_score, recall_score, f1_score\n",
    "import torch.optim as optim\n",
    "from itertools import product\n",
    "from sklearn.utils.class_weight import compute_class_weight\n",
    "import matplotlib.pyplot as plt\n",
    "from sklearn.metrics import confusion_matrix\n",
    "import seaborn as sns\n",
    "from sklearn.model_selection import StratifiedKFold"
   ]
  },
  {
   "cell_type": "code",
   "execution_count": 2,
   "metadata": {},
   "outputs": [
    {
     "data": {
      "text/plain": [
       "device(type='cuda')"
      ]
     },
     "execution_count": 2,
     "metadata": {},
     "output_type": "execute_result"
    }
   ],
   "source": [
    "device = torch.device(\"cuda\" if torch.cuda.is_available() else \"cpu\")\n",
    "device"
   ]
  },
  {
   "cell_type": "code",
   "execution_count": 3,
   "metadata": {},
   "outputs": [],
   "source": [
    "class VisualClassifier(nn.Module):\n",
    "    def __init__(self):\n",
    "        super(VisualClassifier, self).__init__()\n",
    "        self.fc1 = nn.Linear(2048, 256)\n",
    "        self.bn1 = nn.BatchNorm1d(256)\n",
    "        self.dropout1 = nn.Dropout(0.7)\n",
    "        self.fc2 = nn.Linear(256, 4)\n",
    "        self.bn2 = nn.BatchNorm1d(4)\n",
    "\n",
    "    def forward(self, x):\n",
    "        x = F.relu(self.bn1(self.fc1(x)))\n",
    "        x = self.dropout1(x)\n",
    "        x = F.relu(self.bn2(self.fc2(x)))\n",
    "        return x"
   ]
  },
  {
   "cell_type": "code",
   "execution_count": 4,
   "metadata": {},
   "outputs": [],
   "source": [
    "class TextClassifier(nn.Module):\n",
    "    def __init__(self, input_dim = 768, output_dim = 4, hidden_dim = 512):\n",
    "        super(TextClassifier, self).__init__()\n",
    "        self.fc1 = nn.Linear(input_dim, hidden_dim)\n",
    "        self.bn1 = nn.BatchNorm1d(hidden_dim)\n",
    "        self.dropout1 = nn.Dropout(0.5)\n",
    "        self.fc2 = nn.Linear(hidden_dim, hidden_dim // 2)\n",
    "        self.bn2 = nn.BatchNorm1d(hidden_dim // 2)\n",
    "        self.dropout2 = nn.Dropout(0.5)\n",
    "        self.fc3 = nn.Linear(hidden_dim // 2, output_dim)\n",
    "\n",
    "    def forward(self, x):\n",
    "        x = F.relu(self.bn1(self.fc1(x)))\n",
    "        x = self.dropout1(x)\n",
    "        x = F.relu(self.bn2(self.fc2(x)))\n",
    "        x = self.dropout2(x)\n",
    "        x = self.fc3(x)\n",
    "        return x\n"
   ]
  },
  {
   "cell_type": "code",
   "execution_count": 5,
   "metadata": {},
   "outputs": [],
   "source": [
    "class AudialClassifier(nn.Module):\n",
    "    def __init__(self):\n",
    "        super(AudialClassifier, self).__init__()\n",
    "        self.fc1 = nn.Linear(128, 16)\n",
    "        self.bn1 = nn.BatchNorm1d(16)\n",
    "        self.dropout1 = nn.Dropout(0.5)\n",
    "        self.fc2 = nn.Linear(16, 4)\n",
    "        self.bn2 = nn.BatchNorm1d(4)\n",
    "   \n",
    "    def forward(self, x):\n",
    "        x = F.relu(self.bn1(self.fc1(x)))\n",
    "        x = self.dropout1(x)\n",
    "        x = F.relu(self.bn2(self.fc2(x)))\n",
    "        return x"
   ]
  },
  {
   "cell_type": "code",
   "execution_count": 6,
   "metadata": {},
   "outputs": [],
   "source": [
    "def train_model(model, dataloaders, optimizer, criterion, device, num_epochs = 50, patience = 10):\n",
    "\n",
    "    \"\"\"\n",
    "    Trains and validates the model.\n",
    "    \n",
    "    Args:\n",
    "    - model (torch.nn.Module): The PyTorch model to train.\n",
    "    - dataloaders (dict): A dictionary containing 'train' and 'val' DataLoaders.\n",
    "    - optimizer (torch.optim.Optimizer): The optimizer to use for training.\n",
    "    - criterion (torch.nn.Module): The loss function.\n",
    "    - num_epochs (int): The number of epochs to train for.\n",
    "    - patience (int): The patience for early stopping.\n",
    "    \"\"\"\n",
    "    best_val_f1 = -float('inf')  \n",
    "    patience_counter = 0\n",
    "    model.to(device)\n",
    "    \n",
    "    for epoch in range(num_epochs):\n",
    "        model.train()\n",
    "        for inputs, labels in dataloaders['train']:\n",
    "            inputs, labels = inputs.to(device), labels.to(device)\n",
    "            optimizer.zero_grad()\n",
    "            outputs = model(inputs)\n",
    "            loss = criterion(outputs, labels)\n",
    "            loss.backward()\n",
    "            optimizer.step()\n",
    "\n",
    "        model.eval()\n",
    "        val_preds = []\n",
    "        val_labels = []\n",
    "        val_probs = []\n",
    "        with torch.no_grad():\n",
    "            for inputs, labels in dataloaders['val']:\n",
    "                inputs, labels = inputs.to(device), labels.to(device)\n",
    "                outputs = model(inputs)\n",
    "                _, preds = torch.max(outputs, 1)\n",
    "                val_preds.extend(preds.cpu().numpy())\n",
    "                val_labels.extend(labels.cpu().numpy())\n",
    "                val_probs.extend(outputs.cpu().numpy())\n",
    "\n",
    "\n",
    "        val_accuracy = np.mean(np.array(val_preds) == np.array(val_labels))\n",
    "        val_f1 = f1_score(val_labels, val_preds, average='micro')\n",
    "        \n",
    "        if val_f1 > best_val_f1:\n",
    "            best_val_f1 = val_f1  \n",
    "            patience_counter = 0  \n",
    "            # print(f\"Validation F1 improved. Saving model...\")\n",
    "            # torch.save(model.state_dict(), 'best_model_checkpoint.pth')\n",
    "        else:\n",
    "            patience_counter += 1 \n",
    "            # print(f'Validation F1 did not improve. Patience: {patience_counter}/{patience}')\n",
    "        \n",
    "        if patience_counter >= patience:\n",
    "            print(\"Early stopping triggered\")\n",
    "            break  \n",
    "\n",
    "\n",
    "    print(f'Validation Accuracy: {val_accuracy:.4f}, Best Validation F1 Score: {best_val_f1:.4f}')\n",
    "    \n",
    "    return val_accuracy, best_val_f1, np.array(val_probs), np.array(val_preds), np.array(val_labels)\n"
   ]
  },
  {
   "cell_type": "code",
   "execution_count": 7,
   "metadata": {},
   "outputs": [],
   "source": [
    "def extract_and_pool_features(df, feature_types, base_path = \"../data/\"):\n",
    "    \"\"\"\n",
    "    Extracts features from specified columns in the DataFrame, applies mean pooling,\n",
    "    and updates the DataFrame with new columns for these processed features.\n",
    "    \n",
    "    Args:\n",
    "    - df (DataFrame): The pandas DataFrame containing the features.\n",
    "    - feature_types (dict): A dictionary mapping from 'visual' and 'audio' to their respective column names in df.\n",
    "    - base_path (str): Base path where the feature files are stored.\n",
    "    \"\"\"\n",
    "    \n",
    "    for key, column in feature_types.items():\n",
    "        features_list = []\n",
    "        for _, row in df.iterrows():\n",
    "            file_path = row[column]\n",
    "            features = np.load(f\"{base_path}{file_path}\")\n",
    "            features_list.append(np.mean(features, axis = 0) if key != 'text' else features)\n",
    "        \n",
    "        df[f'extracted_{key}_features'] = features_list\n"
   ]
  },
  {
   "cell_type": "code",
   "execution_count": 8,
   "metadata": {},
   "outputs": [],
   "source": [
    "def prepare_datasets_and_loaders(df, feature_columns, label_column = 'emotion_labels', batch_size = 4, test_size = 0.2):\n",
    "    \"\"\"\n",
    "    Prepares datasets and dataloaders for training and validation.\n",
    "    \n",
    "    Args:\n",
    "    - df (DataFrame): The pandas DataFrame containing the pooled features and labels.\n",
    "    - feature_columns (list): List of column names for the features to be used.\n",
    "    - label_column (str): The column name where the label data is stored.\n",
    "    - batch_size (int): Batch size for the dataloaders.\n",
    "    - test_size (float): Proportion of the dataset to include in the test split.\n",
    "    \n",
    "    Returns:\n",
    "    - A dictionary of dataloaders for training and validation for each feature type.\n",
    "    \"\"\"\n",
    "\n",
    "    dataloaders = {}\n",
    "    y = torch.tensor(df[label_column].values, dtype = torch.long)\n",
    "\n",
    "    for feature_type in feature_columns:\n",
    "        X = np.array(df[feature_type].tolist(), dtype = np.float32)\n",
    "        X_train, X_val, y_train, y_val = train_test_split(X, y, test_size = test_size, random_state = 42)\n",
    "        \n",
    "        train_dataset = torch.utils.data.TensorDataset(torch.tensor(X_train), y_train)\n",
    "        val_dataset = torch.utils.data.TensorDataset(torch.tensor(X_val), y_val)\n",
    "        \n",
    "        train_loader = DataLoader(train_dataset, batch_size = batch_size, shuffle = True)\n",
    "        val_loader = DataLoader(val_dataset, batch_size = batch_size, shuffle = False)\n",
    "        \n",
    "        dataloaders[f'{feature_type}_train'] = train_loader\n",
    "        dataloaders[f'{feature_type}_val'] = val_loader\n",
    "\n",
    "    return dataloaders\n",
    "\n"
   ]
  },
  {
   "cell_type": "markdown",
   "metadata": {},
   "source": [
    "### Handle Class Imbalances\n",
    "I handle class imabalnce by using the weights from each class and later pass them into the optimizer "
   ]
  },
  {
   "cell_type": "code",
   "execution_count": 9,
   "metadata": {},
   "outputs": [
    {
     "data": {
      "text/plain": [
       "(tensor([1.0183, 1.0844, 1.8556, 0.6423], device='cuda:0'), torch.Size([4]))"
      ]
     },
     "execution_count": 9,
     "metadata": {},
     "output_type": "execute_result"
    }
   ],
   "source": [
    "df = pd.read_csv('../data/csv/dataset.csv')\n",
    "\n",
    "labels = df['emotion_labels'].values\n",
    "classes = np.unique(labels)\n",
    "class_weights = compute_class_weight('balanced', classes = classes, y = labels)\n",
    "class_weights_tensor = torch.tensor(class_weights, dtype = torch.float)\n",
    "class_weights_tensor = class_weights_tensor.to('cuda')\n",
    "class_weights_tensor, class_weights_tensor.shape"
   ]
  },
  {
   "cell_type": "markdown",
   "metadata": {},
   "source": [
    "### RUN CLASSIFIER"
   ]
  },
  {
   "cell_type": "markdown",
   "metadata": {},
   "source": [
    "### PARAM GRID SEARCH"
   ]
  },
  {
   "cell_type": "code",
   "execution_count": 10,
   "metadata": {},
   "outputs": [],
   "source": [
    "# param_grid = {\n",
    "#     'learning_rate': [0.0001, 0.001, 0.01],\n",
    "#     'optimizer': [optim.Adam],\n",
    "#     'criterion': [nn.CrossEntropyLoss],\n",
    "#     'epochs': [30, 50],\n",
    "#     'batch_size': [4, 16, 32],\n",
    "#     'patience': [5, 10, 15],\n",
    "#     'weight_decay': [0, 1e-4, 1e-2],\n",
    "# }\n",
    "\n",
    "param_grid = {\n",
    "    'learning_rate': [1e-4, 1e-2, 1e-1],\n",
    "    'optimizer': [optim.Adam],\n",
    "    'criterion': [nn.CrossEntropyLoss],\n",
    "    'epochs': [50],\n",
    "    'batch_size': [8, 16, 32],\n",
    "    'patience': [15],\n",
    "    'weight_decay': [0],\n",
    "}\n",
    "\n",
    "\n",
    "def get_optimizer(optimizer_class, parameters, lr, weight_decay, momentum = None):\n",
    "    if optimizer_class == optim.Adam:\n",
    "        return optim.Adam(parameters, lr = lr, weight_decay = weight_decay)\n",
    "    elif optimizer_class == optim.SGD:\n",
    "        # Ensure momentum is provided for SGD; otherwise, default to 0\n",
    "        return optim.SGD(parameters, lr = lr, momentum = momentum if momentum is not None else 0, weight_decay = weight_decay)\n",
    "\n",
    "\n",
    "def get_criterion(criterion_class):\n",
    "    if criterion_class == nn.CrossEntropyLoss:\n",
    "        return nn.CrossEntropyLoss()\n",
    "    elif criterion_class == nn.NLLLoss:\n",
    "        return nn.NLLLoss()"
   ]
  },
  {
   "cell_type": "code",
   "execution_count": 11,
   "metadata": {},
   "outputs": [],
   "source": [
    "def grid_search(df, feature_columns, param_grid, device = 'cuda'):\n",
    "    max_vis_acc, max_aud_acc, max_text_acc = -np.inf, -np.inf, -np.inf\n",
    "    best_params_vis, best_params_aud, best_params_text = None, None, None\n",
    "\n",
    "    combinations = list(product(*param_grid.values()))\n",
    "\n",
    "    for combination in tqdm(combinations):\n",
    "        lr, optimizer_class, criterion_class, epochs, batch_size, patience, wd = combination\n",
    "        \n",
    "        dataloaders = prepare_datasets_and_loaders(df, feature_columns, batch_size = batch_size)\n",
    "        \n",
    "        model_vis = VisualClassifier().to(device)\n",
    "        optimizer_vis = optim.Adam(model_vis.parameters(), lr = lr, weight_decay = wd)\n",
    "        \n",
    "        model_aud = AudialClassifier().to(device)\n",
    "        optimizer_aud = optim.Adam(model_aud.parameters(), lr = lr, weight_decay = wd)\n",
    "\n",
    "        model_text = TextClassifier().to(device)\n",
    "        optimizer_text = optim.Adam(model_text.parameters(), lr = lr, weight_decay = wd)\n",
    "\n",
    "        criterion = torch.nn.CrossEntropyLoss(weight = class_weights_tensor)\n",
    "        \n",
    "        models_optimizers = {\n",
    "            'extracted_visual_features': (model_vis, optimizer_vis),\n",
    "            'extracted_audio_features': (model_aud, optimizer_aud),\n",
    "            'extracted_text_features': (model_text, optimizer_text),\n",
    "        }\n",
    "\n",
    "        for feature_type, (model, optimizer) in models_optimizers.items():\n",
    "            print(f\"\\nTraining {feature_type.split('_')[1].capitalize()} Model with lr = {lr}, optimizer = {optimizer_class.__name__}, criterion = {criterion_class.__name__}, epochs = {epochs}, batch_size = {batch_size}, Patience = {patience}, Weight decay = {wd}\")\n",
    "            val_accuracy, best_val_f1, val_probs, val_preds, val_labels = train_model(\n",
    "                model, \n",
    "                {'train': dataloaders[f'{feature_type}_train'], 'val': dataloaders[f'{feature_type}_val']}, \n",
    "                optimizer, criterion, device = device, num_epochs = epochs, patience = patience\n",
    "            )\n",
    "\n",
    "            if feature_type == 'extracted_visual_features' and val_accuracy > max_vis_acc:\n",
    "                max_vis_acc = val_accuracy\n",
    "                best_params_vis = {'learning_rate': lr, 'optimizer': optimizer_class.__name__, 'criterion': criterion_class.__name__, 'epochs': epochs, 'batch_size': batch_size, 'patience': patience, 'weight_decay': wd, 'validation_accuracy': val_accuracy}\n",
    "            \n",
    "            elif feature_type == 'extracted_audio_features' and val_accuracy > max_aud_acc:\n",
    "                max_aud_acc = val_accuracy\n",
    "                best_params_aud = {'learning_rate': lr, 'optimizer': optimizer_class.__name__, 'criterion': criterion_class.__name__, 'epochs': epochs, 'batch_size': batch_size, 'patience': patience, 'weight_decay': wd, 'validation_accuracy': val_accuracy}\n",
    "            \n",
    "            elif feature_type == 'extracted_text_features' and val_accuracy > max_text_acc:\n",
    "                max_text_acc = val_accuracy\n",
    "                best_params_text = {'learning_rate': lr, 'optimizer': optimizer_class.__name__, 'criterion': criterion_class.__name__, 'epochs': epochs, 'batch_size': batch_size, 'patience': patience, 'weight_decay': wd, 'validation_accuracy': val_accuracy}\n",
    "\n",
    "    return best_params_vis, best_params_aud, best_params_text"
   ]
  },
  {
   "cell_type": "code",
   "execution_count": 12,
   "metadata": {},
   "outputs": [],
   "source": [
    "feature_types = {'visual': 'visual_features', 'audio': 'acoustic_features', 'text':'lexical_features'}\n",
    "feature_columns = ['extracted_visual_features', 'extracted_audio_features','extracted_text_features']\n",
    "\n",
    "extract_and_pool_features(df, feature_types)"
   ]
  },
  {
   "cell_type": "code",
   "execution_count": 13,
   "metadata": {},
   "outputs": [
    {
     "name": "stderr",
     "output_type": "stream",
     "text": [
      "  0%|          | 0/9 [00:00<?, ?it/s]"
     ]
    },
    {
     "name": "stdout",
     "output_type": "stream",
     "text": [
      "\n",
      "Training Visual Model with lr = 0.0001, optimizer = Adam, criterion = CrossEntropyLoss, epochs = 50, batch_size = 8, Patience = 15, Weight decay = 0\n",
      "Validation Accuracy: 0.5075, Best Validation F1 Score: 0.5261\n",
      "\n",
      "Training Audio Model with lr = 0.0001, optimizer = Adam, criterion = CrossEntropyLoss, epochs = 50, batch_size = 8, Patience = 15, Weight decay = 0\n",
      "Validation Accuracy: 0.5000, Best Validation F1 Score: 0.5000\n",
      "\n",
      "Training Text Model with lr = 0.0001, optimizer = Adam, criterion = CrossEntropyLoss, epochs = 50, batch_size = 8, Patience = 15, Weight decay = 0\n"
     ]
    },
    {
     "name": "stderr",
     "output_type": "stream",
     "text": [
      " 11%|█         | 1/9 [00:42<05:36, 42.07s/it]"
     ]
    },
    {
     "name": "stdout",
     "output_type": "stream",
     "text": [
      "Early stopping triggered\n",
      "Validation Accuracy: 0.6119, Best Validation F1 Score: 0.6343\n",
      "\n",
      "Training Visual Model with lr = 0.0001, optimizer = Adam, criterion = CrossEntropyLoss, epochs = 50, batch_size = 16, Patience = 15, Weight decay = 0\n",
      "Validation Accuracy: 0.4963, Best Validation F1 Score: 0.5224\n",
      "\n",
      "Training Audio Model with lr = 0.0001, optimizer = Adam, criterion = CrossEntropyLoss, epochs = 50, batch_size = 16, Patience = 15, Weight decay = 0\n",
      "Early stopping triggered\n",
      "Validation Accuracy: 0.4963, Best Validation F1 Score: 0.5037\n",
      "\n",
      "Training Text Model with lr = 0.0001, optimizer = Adam, criterion = CrossEntropyLoss, epochs = 50, batch_size = 16, Patience = 15, Weight decay = 0\n"
     ]
    },
    {
     "name": "stderr",
     "output_type": "stream",
     "text": [
      " 22%|██▏       | 2/9 [01:00<03:18, 28.37s/it]"
     ]
    },
    {
     "name": "stdout",
     "output_type": "stream",
     "text": [
      "Early stopping triggered\n",
      "Validation Accuracy: 0.6381, Best Validation F1 Score: 0.6493\n",
      "\n",
      "Training Visual Model with lr = 0.0001, optimizer = Adam, criterion = CrossEntropyLoss, epochs = 50, batch_size = 32, Patience = 15, Weight decay = 0\n",
      "Validation Accuracy: 0.4888, Best Validation F1 Score: 0.5187\n",
      "\n",
      "Training Audio Model with lr = 0.0001, optimizer = Adam, criterion = CrossEntropyLoss, epochs = 50, batch_size = 32, Patience = 15, Weight decay = 0\n",
      "Validation Accuracy: 0.5522, Best Validation F1 Score: 0.5522\n",
      "\n",
      "Training Text Model with lr = 0.0001, optimizer = Adam, criterion = CrossEntropyLoss, epochs = 50, batch_size = 32, Patience = 15, Weight decay = 0\n"
     ]
    },
    {
     "name": "stderr",
     "output_type": "stream",
     "text": [
      " 33%|███▎      | 3/9 [01:12<02:04, 20.73s/it]"
     ]
    },
    {
     "name": "stdout",
     "output_type": "stream",
     "text": [
      "Early stopping triggered\n",
      "Validation Accuracy: 0.6418, Best Validation F1 Score: 0.6530\n",
      "\n",
      "Training Visual Model with lr = 0.01, optimizer = Adam, criterion = CrossEntropyLoss, epochs = 50, batch_size = 8, Patience = 15, Weight decay = 0\n",
      "Early stopping triggered\n",
      "Validation Accuracy: 0.4701, Best Validation F1 Score: 0.5373\n",
      "\n",
      "Training Audio Model with lr = 0.01, optimizer = Adam, criterion = CrossEntropyLoss, epochs = 50, batch_size = 8, Patience = 15, Weight decay = 0\n",
      "Early stopping triggered\n",
      "Validation Accuracy: 0.5037, Best Validation F1 Score: 0.5709\n",
      "\n",
      "Training Text Model with lr = 0.01, optimizer = Adam, criterion = CrossEntropyLoss, epochs = 50, batch_size = 8, Patience = 15, Weight decay = 0\n"
     ]
    },
    {
     "name": "stderr",
     "output_type": "stream",
     "text": [
      " 44%|████▍     | 4/9 [01:39<01:56, 23.38s/it]"
     ]
    },
    {
     "name": "stdout",
     "output_type": "stream",
     "text": [
      "Early stopping triggered\n",
      "Validation Accuracy: 0.6045, Best Validation F1 Score: 0.6231\n",
      "\n",
      "Training Visual Model with lr = 0.01, optimizer = Adam, criterion = CrossEntropyLoss, epochs = 50, batch_size = 16, Patience = 15, Weight decay = 0\n",
      "Early stopping triggered\n",
      "Validation Accuracy: 0.5261, Best Validation F1 Score: 0.5448\n",
      "\n",
      "Training Audio Model with lr = 0.01, optimizer = Adam, criterion = CrossEntropyLoss, epochs = 50, batch_size = 16, Patience = 15, Weight decay = 0\n",
      "Early stopping triggered\n",
      "Validation Accuracy: 0.5112, Best Validation F1 Score: 0.5784\n",
      "\n",
      "Training Text Model with lr = 0.01, optimizer = Adam, criterion = CrossEntropyLoss, epochs = 50, batch_size = 16, Patience = 15, Weight decay = 0\n"
     ]
    },
    {
     "name": "stderr",
     "output_type": "stream",
     "text": [
      " 56%|█████▌    | 5/9 [01:58<01:26, 21.55s/it]"
     ]
    },
    {
     "name": "stdout",
     "output_type": "stream",
     "text": [
      "Early stopping triggered\n",
      "Validation Accuracy: 0.6045, Best Validation F1 Score: 0.6306\n",
      "\n",
      "Training Visual Model with lr = 0.01, optimizer = Adam, criterion = CrossEntropyLoss, epochs = 50, batch_size = 32, Patience = 15, Weight decay = 0\n",
      "Early stopping triggered\n",
      "Validation Accuracy: 0.4963, Best Validation F1 Score: 0.5410\n",
      "\n",
      "Training Audio Model with lr = 0.01, optimizer = Adam, criterion = CrossEntropyLoss, epochs = 50, batch_size = 32, Patience = 15, Weight decay = 0\n",
      "Early stopping triggered\n",
      "Validation Accuracy: 0.5149, Best Validation F1 Score: 0.5560\n",
      "\n",
      "Training Text Model with lr = 0.01, optimizer = Adam, criterion = CrossEntropyLoss, epochs = 50, batch_size = 32, Patience = 15, Weight decay = 0\n"
     ]
    },
    {
     "name": "stderr",
     "output_type": "stream",
     "text": [
      " 67%|██████▋   | 6/9 [02:04<00:49, 16.45s/it]"
     ]
    },
    {
     "name": "stdout",
     "output_type": "stream",
     "text": [
      "Early stopping triggered\n",
      "Validation Accuracy: 0.5896, Best Validation F1 Score: 0.6418\n",
      "\n",
      "Training Visual Model with lr = 0.1, optimizer = Adam, criterion = CrossEntropyLoss, epochs = 50, batch_size = 8, Patience = 15, Weight decay = 0\n",
      "Early stopping triggered\n",
      "Validation Accuracy: 0.2948, Best Validation F1 Score: 0.2948\n",
      "\n",
      "Training Audio Model with lr = 0.1, optimizer = Adam, criterion = CrossEntropyLoss, epochs = 50, batch_size = 8, Patience = 15, Weight decay = 0\n",
      "Early stopping triggered\n",
      "Validation Accuracy: 0.2910, Best Validation F1 Score: 0.2910\n",
      "\n",
      "Training Text Model with lr = 0.1, optimizer = Adam, criterion = CrossEntropyLoss, epochs = 50, batch_size = 8, Patience = 15, Weight decay = 0\n"
     ]
    },
    {
     "name": "stderr",
     "output_type": "stream",
     "text": [
      " 78%|███████▊  | 7/9 [02:20<00:32, 16.06s/it]"
     ]
    },
    {
     "name": "stdout",
     "output_type": "stream",
     "text": [
      "Early stopping triggered\n",
      "Validation Accuracy: 0.1045, Best Validation F1 Score: 0.4366\n",
      "\n",
      "Training Visual Model with lr = 0.1, optimizer = Adam, criterion = CrossEntropyLoss, epochs = 50, batch_size = 16, Patience = 15, Weight decay = 0\n",
      "Early stopping triggered\n",
      "Validation Accuracy: 0.3396, Best Validation F1 Score: 0.3433\n",
      "\n",
      "Training Audio Model with lr = 0.1, optimizer = Adam, criterion = CrossEntropyLoss, epochs = 50, batch_size = 16, Patience = 15, Weight decay = 0\n",
      "Early stopping triggered\n",
      "Validation Accuracy: 0.4440, Best Validation F1 Score: 0.4440\n",
      "\n",
      "Training Text Model with lr = 0.1, optimizer = Adam, criterion = CrossEntropyLoss, epochs = 50, batch_size = 16, Patience = 15, Weight decay = 0\n"
     ]
    },
    {
     "name": "stderr",
     "output_type": "stream",
     "text": [
      " 89%|████████▉ | 8/9 [02:30<00:14, 14.15s/it]"
     ]
    },
    {
     "name": "stdout",
     "output_type": "stream",
     "text": [
      "Early stopping triggered\n",
      "Validation Accuracy: 0.3657, Best Validation F1 Score: 0.5933\n",
      "\n",
      "Training Visual Model with lr = 0.1, optimizer = Adam, criterion = CrossEntropyLoss, epochs = 50, batch_size = 32, Patience = 15, Weight decay = 0\n",
      "Early stopping triggered\n",
      "Validation Accuracy: 0.3507, Best Validation F1 Score: 0.3657\n",
      "\n",
      "Training Audio Model with lr = 0.1, optimizer = Adam, criterion = CrossEntropyLoss, epochs = 50, batch_size = 32, Patience = 15, Weight decay = 0\n",
      "Early stopping triggered\n",
      "Validation Accuracy: 0.5448, Best Validation F1 Score: 0.5933\n",
      "\n",
      "Training Text Model with lr = 0.1, optimizer = Adam, criterion = CrossEntropyLoss, epochs = 50, batch_size = 32, Patience = 15, Weight decay = 0\n"
     ]
    },
    {
     "name": "stderr",
     "output_type": "stream",
     "text": [
      "100%|██████████| 9/9 [02:40<00:00, 17.82s/it]"
     ]
    },
    {
     "name": "stdout",
     "output_type": "stream",
     "text": [
      "Early stopping triggered\n",
      "Validation Accuracy: 0.5933, Best Validation F1 Score: 0.6157\n",
      "Best Visual Model Params: {'learning_rate': 0.01, 'optimizer': 'Adam', 'criterion': 'CrossEntropyLoss', 'epochs': 50, 'batch_size': 16, 'patience': 15, 'weight_decay': 0, 'validation_accuracy': 0.5261194029850746}\n",
      "Best Audio Model Params: {'learning_rate': 0.0001, 'optimizer': 'Adam', 'criterion': 'CrossEntropyLoss', 'epochs': 50, 'batch_size': 32, 'patience': 15, 'weight_decay': 0, 'validation_accuracy': 0.5522388059701493}\n",
      "Best Text Model Params: {'learning_rate': 0.0001, 'optimizer': 'Adam', 'criterion': 'CrossEntropyLoss', 'epochs': 50, 'batch_size': 32, 'patience': 15, 'weight_decay': 0, 'validation_accuracy': 0.6417910447761194}\n"
     ]
    },
    {
     "name": "stderr",
     "output_type": "stream",
     "text": [
      "\n"
     ]
    }
   ],
   "source": [
    "vis_params, aud_params, text_params = grid_search(df, feature_columns, param_grid, device = 'cuda')\n",
    "\n",
    "print(\"Best Visual Model Params:\", vis_params)\n",
    "print(\"Best Audio Model Params:\", aud_params)\n",
    "print(\"Best Text Model Params:\", text_params)\n"
   ]
  },
  {
   "cell_type": "markdown",
   "metadata": {},
   "source": [
    "### Train Unimodal but without cross validation to receive the outputs of the models for Late Fusion later"
   ]
  },
  {
   "cell_type": "code",
   "execution_count": 14,
   "metadata": {},
   "outputs": [
    {
     "name": "stdout",
     "output_type": "stream",
     "text": [
      "Training with extracted_visual_features:\n",
      "Validation Accuracy: 0.4851, Best Validation F1 Score: 0.5075\n",
      "Training with extracted_audio_features:\n",
      "Early stopping triggered\n",
      "Validation Accuracy: 0.5112, Best Validation F1 Score: 0.6082\n",
      "Training with extracted_text_features:\n",
      "Early stopping triggered\n",
      "Validation Accuracy: 0.5896, Best Validation F1 Score: 0.6604\n"
     ]
    }
   ],
   "source": [
    "model_aud = AudialClassifier()\n",
    "model_aud = model_aud.to(device)\n",
    "\n",
    "model_vis = VisualClassifier()\n",
    "model_vis = model_vis.to(device)\n",
    "\n",
    "model_text = TextClassifier()\n",
    "model_text = model_text.to(device)\n",
    "\n",
    "criterion = torch.nn.CrossEntropyLoss(weight = class_weights_tensor)\n",
    "\n",
    "feature_types = {'visual': 'visual_features', 'audio': 'acoustic_features', 'text':'lexical_features'}\n",
    "feature_columns = ['extracted_visual_features', 'extracted_audio_features','extracted_text_features']\n",
    "\n",
    "dataloaders = prepare_datasets_and_loaders(df, feature_columns, batch_size = 4)\n",
    "\n",
    "optimizer_aud = optim.Adam(model_aud.parameters(), lr = 0.001, weight_decay = 1e-4)\n",
    "optimizer_vis = optim.Adam(model_vis.parameters(), lr = 0.001, weight_decay = 0)\n",
    "optimizer_text = optim.Adam(model_text.parameters(), lr = 0.001, weight_decay = 1e-4)\n",
    "\n",
    "\n",
    "models_optimizers = {\n",
    "    'extracted_visual_features': (model_vis, optimizer_vis),\n",
    "    'extracted_audio_features': (model_aud, optimizer_aud),\n",
    "    'extracted_text_features': (model_text, optimizer_text),\n",
    "}\n",
    "\n",
    "model_outputs = {}\n",
    "for feature_type, (model, optimizer) in models_optimizers.items():\n",
    "    print(f\"Training with {feature_type}:\")\n",
    "    val_accuracy, best_val_f1, val_probs, val_preds, val_labels = train_model(\n",
    "        model, \n",
    "        {'train': dataloaders[f'{feature_type}_train'], 'val': dataloaders[f'{feature_type}_val']}, \n",
    "        optimizer, criterion, device = device, num_epochs = 50, patience = 30)\n",
    "\n",
    "    model_outputs[feature_type] = {\n",
    "        'val_accuracy': val_accuracy,\n",
    "        'best_val_f1': best_val_f1,\n",
    "        'val_probs': val_probs, \n",
    "        'val_preds': val_preds,\n",
    "        'val_labels': val_labels\n",
    "    }\n"
   ]
  },
  {
   "cell_type": "markdown",
   "metadata": {},
   "source": [
    "## Lack of alignment temporally and lack of similarity of shapes of data "
   ]
  },
  {
   "cell_type": "markdown",
   "metadata": {},
   "source": [
    "### Early Fusion"
   ]
  },
  {
   "cell_type": "code",
   "execution_count": 15,
   "metadata": {},
   "outputs": [],
   "source": [
    "class ComplexConcatModel(nn.Module):\n",
    "    def __init__(self, input_dim, output_dim = 4):\n",
    "        super(ComplexConcatModel, self).__init__()\n",
    "        self.fc1 = nn.Linear(input_dim, 1024)\n",
    "        self.bn1 = nn.BatchNorm1d(1024)\n",
    "        self.dropout1 = nn.Dropout(0.5)\n",
    "        \n",
    "        self.fc2 = nn.Linear(1024, 512)\n",
    "        self.bn2 = nn.BatchNorm1d(512)\n",
    "        self.dropout2 = nn.Dropout(0.5)\n",
    "        \n",
    "        self.fc3 = nn.Linear(512, 256)\n",
    "        self.bn3 = nn.BatchNorm1d(256)\n",
    "        self.dropout3 = nn.Dropout(0.5)\n",
    "        \n",
    "        self.fc4 = nn.Linear(256, 128)\n",
    "        self.bn4 = nn.BatchNorm1d(128)\n",
    "        self.dropout4 = nn.Dropout(0.5)\n",
    "\n",
    "        self.fc5 = nn.Linear(128, output_dim)\n",
    "\n",
    "    def forward(self, x):\n",
    "        x = F.relu(self.bn1(self.fc1(x)))\n",
    "        x = self.dropout1(x)\n",
    "        x = F.relu(self.bn2(self.fc2(x)))\n",
    "        x = self.dropout2(x)\n",
    "        x = F.relu(self.bn3(self.fc3(x)))\n",
    "        x = self.dropout3(x)\n",
    "        x = F.relu(self.bn4(self.fc4(x)))\n",
    "        x = self.dropout4(x)\n",
    "        x = self.fc5(x)\n",
    "        return x\n",
    "\n",
    "\n",
    "class ConcatDataset(Dataset):\n",
    "    def __init__(self, features, labels):\n",
    "        \"\"\"\n",
    "        features: Numpy array of concatenated features.\n",
    "        labels: Numpy array of labels.\n",
    "        \"\"\"\n",
    "        self.features = features\n",
    "        self.labels = labels\n",
    "\n",
    "    def __len__(self):\n",
    "        return len(self.features)\n",
    "\n",
    "    def __getitem__(self, idx):\n",
    "        return torch.tensor(self.features[idx], dtype = torch.float), torch.tensor(self.labels[idx], dtype = torch.long)\n"
   ]
  },
  {
   "cell_type": "code",
   "execution_count": 23,
   "metadata": {},
   "outputs": [
    {
     "name": "stdout",
     "output_type": "stream",
     "text": [
      "Validation Accuracy: 0.7127, Best Validation F1 Score: 0.7425\n"
     ]
    }
   ],
   "source": [
    "concatenated_features = np.hstack((\n",
    "    np.array(df['extracted_visual_features'].tolist()),\n",
    "    np.array(df['extracted_audio_features'].tolist()),\n",
    "    np.array(df['extracted_text_features'].tolist())\n",
    "))\n",
    "\n",
    "# print(concatenated_features.shape)\n",
    "labels = df['emotion_labels'].values\n",
    "\n",
    "X_train, X_val, y_train, y_val = train_test_split(concatenated_features, labels, test_size = 0.2, random_state = 42) \n",
    "\n",
    "train_dataset = ConcatDataset(X_train, y_train)\n",
    "val_dataset = ConcatDataset(X_val, y_val)\n",
    "\n",
    "dataloaders = {\n",
    "    'train': DataLoader(train_dataset, batch_size = 16, shuffle = True),\n",
    "    'val': DataLoader(val_dataset, batch_size = 16, shuffle = False)\n",
    "}\n",
    "\n",
    "model = ComplexConcatModel(input_dim = concatenated_features.shape[1]).to(device)  \n",
    "optimizer = optim.Adam(model.parameters(), lr = 0.001, weight_decay = 1e-4)\n",
    "criterion = torch.nn.CrossEntropyLoss(weight = class_weights_tensor)\n",
    "\n",
    "_, _, _, _, _ = train_model(\n",
    "    model = model,\n",
    "    dataloaders = dataloaders,\n",
    "    optimizer = optimizer,\n",
    "    criterion = criterion,  \n",
    "    device = device,\n",
    "    num_epochs = 50,\n",
    "    patience = 30\n",
    ")\n"
   ]
  },
  {
   "cell_type": "markdown",
   "metadata": {},
   "source": [
    "###  Late fusion "
   ]
  },
  {
   "cell_type": "code",
   "execution_count": 22,
   "metadata": {},
   "outputs": [
    {
     "name": "stdout",
     "output_type": "stream",
     "text": [
      "0.7201492537313433\n",
      "0.7201492537313432\n"
     ]
    }
   ],
   "source": [
    "predictions_aud = model_outputs['extracted_audio_features']['val_probs']\n",
    "predictions_vis = model_outputs['extracted_visual_features']['val_probs']\n",
    "predictions_text = model_outputs['extracted_text_features']['val_probs']\n",
    "\n",
    "model_outputs['all_features'] = {'late_fusion_val_preds': []}\n",
    "\n",
    "for i in range(len(predictions_aud)):\n",
    "    averaged_logits = (predictions_aud[i] + predictions_text[i] + predictions_vis[i]) / 3\n",
    "    predicted_class = np.argmax(averaged_logits, axis = 0)\n",
    "    model_outputs['all_features']['late_fusion_val_preds'].append(predicted_class)\n",
    "\n",
    "model_outputs['all_features']['late_fusion_val_preds'] = np.array(model_outputs['all_features']['late_fusion_val_preds'])\n",
    "print(np.mean(model_outputs['all_features']['late_fusion_val_preds'] == model_outputs['extracted_text_features']['val_labels']) )\n",
    "print(f1_score(model_outputs['extracted_text_features']['val_labels'], model_outputs['all_features']['late_fusion_val_preds'], average='micro') )\n"
   ]
  },
  {
   "cell_type": "markdown",
   "metadata": {},
   "source": [
    "### CONFUSION MATRIX"
   ]
  },
  {
   "cell_type": "code",
   "execution_count": 19,
   "metadata": {},
   "outputs": [
    {
     "data": {
      "image/png": "[encoded data removed]",
      "text/plain": [
       "<Figure size 800x600 with 2 Axes>"
      ]
     },
     "metadata": {},
     "output_type": "display_data"
    },
    {
     "data": {
      "image/png": "[encoded data removed]",
      "text/plain": [
       "<Figure size 800x600 with 2 Axes>"
      ]
     },
     "metadata": {},
     "output_type": "display_data"
    },
    {
     "data": {
      "image/png": "[encoded data removed]",
      "text/plain": [
       "<Figure size 800x600 with 2 Axes>"
      ]
     },
     "metadata": {},
     "output_type": "display_data"
    },
    {
     "ename": "KeyError",
     "evalue": "'val_preds'",
     "output_type": "error",
     "traceback": [
      "\u001b[1;31m---------------------------------------------------------------------------\u001b[0m",
      "\u001b[1;31mKeyError\u001b[0m                                  Traceback (most recent call last)",
      "Cell \u001b[1;32mIn[19], line 4\u001b[0m\n\u001b[0;32m      1\u001b[0m classes \u001b[38;5;241m=\u001b[39m [\u001b[38;5;124m'\u001b[39m\u001b[38;5;124mClass1\u001b[39m\u001b[38;5;124m'\u001b[39m, \u001b[38;5;124m'\u001b[39m\u001b[38;5;124mClass2\u001b[39m\u001b[38;5;124m'\u001b[39m, \u001b[38;5;124m'\u001b[39m\u001b[38;5;124mClass3\u001b[39m\u001b[38;5;124m'\u001b[39m, \u001b[38;5;124m'\u001b[39m\u001b[38;5;124mClass4\u001b[39m\u001b[38;5;124m'\u001b[39m]\n\u001b[0;32m      3\u001b[0m \u001b[38;5;28;01mfor\u001b[39;00m feature_type, outputs \u001b[38;5;129;01min\u001b[39;00m model_outputs\u001b[38;5;241m.\u001b[39mitems():\n\u001b[1;32m----> 4\u001b[0m     cm \u001b[38;5;241m=\u001b[39m confusion_matrix(\u001b[43moutputs\u001b[49m\u001b[43m[\u001b[49m\u001b[38;5;124;43m'\u001b[39;49m\u001b[38;5;124;43mval_preds\u001b[39;49m\u001b[38;5;124;43m'\u001b[39;49m\u001b[43m]\u001b[49m, outputs[\u001b[38;5;124m'\u001b[39m\u001b[38;5;124mval_labels\u001b[39m\u001b[38;5;124m'\u001b[39m])\n\u001b[0;32m      6\u001b[0m     plt\u001b[38;5;241m.\u001b[39mfigure(figsize\u001b[38;5;241m=\u001b[39m(\u001b[38;5;241m8\u001b[39m, \u001b[38;5;241m6\u001b[39m))\n\u001b[0;32m      7\u001b[0m     sns\u001b[38;5;241m.\u001b[39mheatmap(cm, annot \u001b[38;5;241m=\u001b[39m \u001b[38;5;28;01mTrue\u001b[39;00m, fmt \u001b[38;5;241m=\u001b[39m \u001b[38;5;124m\"\u001b[39m\u001b[38;5;124md\u001b[39m\u001b[38;5;124m\"\u001b[39m, cmap \u001b[38;5;241m=\u001b[39m \u001b[38;5;124m\"\u001b[39m\u001b[38;5;124mBlues\u001b[39m\u001b[38;5;124m\"\u001b[39m, xticklabels \u001b[38;5;241m=\u001b[39m classes, yticklabels \u001b[38;5;241m=\u001b[39m classes)\n",
      "\u001b[1;31mKeyError\u001b[0m: 'val_preds'"
     ]
    }
   ],
   "source": [
    "classes = ['Class1', 'Class2', 'Class3', 'Class4']\n",
    "\n",
    "for feature_type, outputs in model_outputs.items():\n",
    "    cm = confusion_matrix(outputs['val_preds'], outputs['val_labels'])\n",
    "\n",
    "    plt.figure(figsize=(8, 6))\n",
    "    sns.heatmap(cm, annot = True, fmt = \"d\", cmap = \"Blues\", xticklabels = classes, yticklabels = classes)\n",
    "    plt.xlabel('Predicted Labels')\n",
    "    plt.ylabel('True Labels')\n",
    "    modality = feature_type.split('_')[1]  \n",
    "    plt.title(f'Confusion Matrix for {modality.capitalize()} Model')\n",
    "    plt.show()"
   ]
  },
  {
   "cell_type": "code",
   "execution_count": 24,
   "metadata": {},
   "outputs": [],
   "source": [
    "def train_model_for_fold(model, dataloaders, optimizer, criterion, device, feature_type, num_epochs = 50, patience = 10):\n",
    "\n",
    "    best_val_f1 = 0\n",
    "    patience_counter = 0\n",
    "    model.to(device)\n",
    "    \n",
    "    for epoch in range(num_epochs):\n",
    "        model.train()\n",
    "        # print('dataloaders: ', dataloaders)\n",
    "        #for inputs, labels in dataloaders['extracted_visual_features_train']:\n",
    "        for inputs, labels in dataloaders[f'{feature_type}_train']:\n",
    "\n",
    "            inputs, labels = inputs.to(device), labels.to(device)\n",
    "            optimizer.zero_grad()\n",
    "            outputs = model(inputs)\n",
    "            loss = criterion(outputs, labels)\n",
    "            loss.backward()\n",
    "            optimizer.step()\n",
    "\n",
    "        val_labels = []\n",
    "        val_preds = []\n",
    "        model.eval()\n",
    "        with torch.no_grad():\n",
    "            for inputs, labels in dataloaders[f'{feature_type}_val']:\n",
    "                inputs, labels = inputs.to(device), labels.to(device)\n",
    "                outputs = model(inputs)\n",
    "                _, preds = torch.max(outputs, 1)\n",
    "                val_labels.extend(labels.cpu().numpy())\n",
    "                val_preds.extend(preds.cpu().numpy())\n",
    "\n",
    "        val_f1 = f1_score(val_labels, val_preds, average='micro')\n",
    "        \n",
    "        if val_f1 > best_val_f1:\n",
    "            best_val_f1 = val_f1\n",
    "            patience_counter = 0\n",
    "        else:\n",
    "            patience_counter += 1\n",
    "        \n",
    "        if patience_counter >= patience:\n",
    "            print(f\"Early stopping triggered at epoch {epoch+1}\")\n",
    "            break\n",
    "\n",
    "    return best_val_f1\n",
    "\n",
    "\n",
    "def cross_validate_model( df, model_class, feature_type, label_column = 'emotion_labels', column = 'subject_id', n_splits = 5, batch_size = 4):\n",
    "    skf = StratifiedKFold(n_splits = n_splits, shuffle = True, random_state = 42)\n",
    "    subjects = df[column].unique()\n",
    "    labels = df.groupby(column).first()[label_column]  \n",
    "    \n",
    "    f1_scores = []\n",
    "\n",
    "    for train_subjects_idx, val_subjects_idx in skf.split(subjects, labels.loc[subjects]):\n",
    "        train_subjects = subjects[train_subjects_idx]\n",
    "        val_subjects = subjects[val_subjects_idx]\n",
    "        train_idx = df[df[column].isin(train_subjects)].index\n",
    "        val_idx = df[df[column].isin(val_subjects)].index\n",
    "        \n",
    "        dataloaders = {}\n",
    "        y_train = torch.tensor(df.loc[train_idx, label_column].values, dtype = torch.long)\n",
    "        y_val = torch.tensor(df.loc[val_idx, label_column].values, dtype = torch.long)\n",
    "        \n",
    "    # for feature_type in feature_columns:\n",
    "        X_train = np.array(df.loc[train_idx, feature_type].tolist(), dtype = np.float32)\n",
    "        X_val = np.array(df.loc[val_idx, feature_type].tolist(), dtype = np.float32)\n",
    "        \n",
    "        train_dataset = TensorDataset(torch.tensor(X_train), y_train)\n",
    "        val_dataset = TensorDataset(torch.tensor(X_val), y_val)\n",
    "        \n",
    "        train_loader = DataLoader(train_dataset, batch_size = batch_size, shuffle = True,  drop_last = True)\n",
    "        val_loader = DataLoader(val_dataset, batch_size = batch_size, shuffle = False,  drop_last = True)\n",
    "        \n",
    "        dataloaders[f'{feature_type}_train'] = train_loader\n",
    "        dataloaders[f'{feature_type}_val'] = val_loader\n",
    "\n",
    "        # print(dataloaders)\n",
    "        model = model_class().to(device)\n",
    "        optimizer = optim.Adam(model.parameters(), lr = 0.001)\n",
    "        criterion = nn.CrossEntropyLoss()\n",
    "\n",
    "        fold_best_val_f1 = train_model_for_fold(model, dataloaders, optimizer, criterion, device, feature_type, num_epochs = 50, patience = 40)\n",
    "        f1_scores.append(fold_best_val_f1)\n",
    "        # print(\"curr f1:\" , fold_best_val_f1)\n",
    "\n",
    "    mean_f1 = np.mean(f1_scores)\n",
    "    std_f1 = np.std(f1_scores)\n",
    "    print(f\"{column} Mean F1 across folds: {mean_f1:.4f} ± {std_f1:.4f}\")\n",
    "    print(column, \" 5 fold validation: \", f1_scores)\n"
   ]
  },
  {
   "cell_type": "code",
   "execution_count": 21,
   "metadata": {},
   "outputs": [
    {
     "name": "stdout",
     "output_type": "stream",
     "text": [
      "visual_features  5 fold validation:  [0.503731343283582, 0.5492424242424242, 0.5454545454545454, 0.5492424242424242, 0.5871212121212122]\n",
      "Early stopping triggered at epoch 44\n",
      "Early stopping triggered at epoch 50\n",
      "acoustic_features  5 fold validation:  [0.585820895522388, 0.5568181818181818, 0.5757575757575758, 0.5378787878787878, 0.5984848484848485]\n",
      "Early stopping triggered at epoch 50\n",
      "lexical_features  5 fold validation:  [0.667910447761194, 0.6553030303030303, 0.6477272727272727, 0.6439393939393939, 0.6212121212121212]\n"
     ]
    }
   ],
   "source": [
    "feature_model_dict = {'visual_features': ('extracted_visual_features', VisualClassifier), 'audio_features': ('extracted_audio_features', AudialClassifier), 'lexical_features': ('extracted_text_features', TextClassifier)}\n",
    "\n",
    "cross_validate_model( df, model_class = VisualClassifier, feature_type = 'extracted_visual_features', column = 'visual_features')\n",
    "cross_validate_model( df, model_class = AudialClassifier, feature_type = 'extracted_audio_features',  column = 'acoustic_features')\n",
    "cross_validate_model( df, model_class = TextClassifier,   feature_type = 'extracted_text_features',   column = 'lexical_features')"
   ]
  },
  {
   "cell_type": "markdown",
   "metadata": {},
   "source": [
    "4. Provide an interpretation of your results from the performed unimodal and multimodal classification tasks.\n",
    "Which one is performing best and why"
   ]
  },
  {
   "cell_type": "markdown",
   "metadata": {},
   "source": [
    "In this scenario, early and late fusion preform very similarly, with over 70% val acc and .70 F1 micro score. This variable changes but overall they are the same and simple gradient step is the difference between the accuracies and f1 scores. \n",
    " \n",
    "Betwee nthe 3 Unimodal classification tasks, Text classifcation perfoms the best with an an F1 score ranging from 0.62 to 0.67. Text and Audio perform very similarly with around a 0.55 F1 Score. I believe text pefroms best due to its semantically more meaniful embedding dimension starting at 128 input dimension versus the much larger two modalties. "
   ]
  }
 ],
 "metadata": {
  "kernelspec": {
   "display_name": "pytorch_dl",
   "language": "python",
   "name": "python3"
  },
  "language_info": {
   "codemirror_mode": {
    "name": "ipython",
    "version": 3
   },
   "file_extension": ".py",
   "mimetype": "text/x-python",
   "name": "python",
   "nbconvert_exporter": "python",
   "pygments_lexer": "ipython3",
   "version": "3.12.1"
  }
 },
 "nbformat": 4,
 "nbformat_minor": 2
}
